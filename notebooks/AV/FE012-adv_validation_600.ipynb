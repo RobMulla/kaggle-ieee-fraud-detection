{
 "cells": [
  {
   "cell_type": "code",
   "execution_count": 1,
   "metadata": {},
   "outputs": [],
   "source": [
    "import pandas as pd\n",
    "import numpy as np\n",
    "import gc\n",
    "import os\n",
    "from tqdm import tqdm\n",
    "import lightgbm as lgb\n",
    "from sklearn.metrics import roc_auc_score\n",
    "from sklearn.model_selection import StratifiedKFold"
   ]
  },
  {
   "cell_type": "code",
   "execution_count": 2,
   "metadata": {},
   "outputs": [],
   "source": [
    "FEATURES = ['V85',\n",
    "         'bank_type_TransactionAmt_mean',\n",
    "         'D5_fq_enc',\n",
    "         'V12',\n",
    "         'V81',\n",
    "         'V282',\n",
    "         'bank_type_D7_std',\n",
    "         'id_15',\n",
    "         'V13',\n",
    "         'C12_fq_enc',\n",
    "         'anomaly',\n",
    "         'D7_DT_D_std_score',\n",
    "         'D3_DT_D_min_max',\n",
    "         'card4_count_full',\n",
    "         'D14_DT_D_min_max',\n",
    "         'card1_count_full',\n",
    "         'V169',\n",
    "         'D3_DT_M_min_max',\n",
    "         'V279',\n",
    "         'V91',\n",
    "         'bank_type_D10_std',\n",
    "         'D14',\n",
    "         'D6_DT_M_std_score',\n",
    "         'D4_DT_W_min_max',\n",
    "         'V152',\n",
    "         'V56',\n",
    "         'D3_intercept_bin0',\n",
    "         'D14_intercept_bin0',\n",
    "         'V220',\n",
    "         'V277',\n",
    "         'D12_intercept',\n",
    "         'ProductCD_W_00cents',\n",
    "         'D13_intercept_bin0',\n",
    "         'V291',\n",
    "         'V189',\n",
    "         'D15_DT_M_min_max',\n",
    "         'C5_fq_enc',\n",
    "         'D3_fq_enc',\n",
    "         'card5_fq_enc',\n",
    "         'addr1_count_full',\n",
    "         'V266',\n",
    "         'D11_intercept_bin2',\n",
    "         'V23',\n",
    "         'D4_intercept_bin3',\n",
    "         'bank_type_D10_mean',\n",
    "         'D2_intercept_bin3',\n",
    "         'V306',\n",
    "         'DeviceType',\n",
    "         'V285',\n",
    "         'D5_DT_W_std_score',\n",
    "         'V131',\n",
    "         'V37',\n",
    "         'V296',\n",
    "         'bank_type_D1_mean',\n",
    "         'V75',\n",
    "         'D3_DT_W_std_score',\n",
    "         'D10_DT_M_min_max',\n",
    "         'id_33_0',\n",
    "         'V67',\n",
    "         'D4_intercept_bin4',\n",
    "         'V256',\n",
    "         'V143',\n",
    "         'uid5_D6_std',\n",
    "         'ProductCD_target_mean',\n",
    "         'mxC3',\n",
    "         'V129',\n",
    "         'D13_DT_M_std_score',\n",
    "         'V24',\n",
    "         'D3_DT_M_std_score',\n",
    "         'mxC4',\n",
    "         'D9',\n",
    "         'id_30_version_fq_enc',\n",
    "         'D5_DT_D_std_score',\n",
    "         'D11_DT_M_std_score',\n",
    "         'uid5_D6_mean',\n",
    "         'D14_DT_M_std_score',\n",
    "         'card5_TransactionAmt_std',\n",
    "         'V20',\n",
    "         'C8_fq_enc',\n",
    "         'V70',\n",
    "         'V127',\n",
    "         'D6_intercept',\n",
    "         'D15_DT_W_min_max',\n",
    "         'sum_Cxx_binary_higher_than_q95',\n",
    "         'V156',\n",
    "         'uid4_D12_mean',\n",
    "         'C5',\n",
    "         'uid4_D12_std',\n",
    "         'id_30_fq_enc',\n",
    "         'V61',\n",
    "         'id_33',\n",
    "         'D15_to_std_addr1',\n",
    "         'bank_type_D9_mean',\n",
    "         'D5_intercept',\n",
    "         'D10_DT_W_min_max',\n",
    "         'V130',\n",
    "         'bank_type_D9_std',\n",
    "         'uid5_D7_std',\n",
    "         'bank_type_D14_mean',\n",
    "         'bank_type_D3_std',\n",
    "         'bank_type_D5_mean',\n",
    "         'ProductCD',\n",
    "         'M8',\n",
    "         'V44',\n",
    "         'D6_fq_enc',\n",
    "         'D15_DT_D_min_max',\n",
    "         'D11_intercept_bin0',\n",
    "         'V257',\n",
    "         'bank_type_D7_mean',\n",
    "         'V76',\n",
    "         'D15',\n",
    "         'V38',\n",
    "         'V55',\n",
    "         'V261',\n",
    "         'V149',\n",
    "         'D4',\n",
    "         'D8_intercept_bin0',\n",
    "         'M2',\n",
    "         'bank_type_D6_std',\n",
    "         'id_30_version',\n",
    "         'D4_intercept_bin1',\n",
    "         'D15_to_mean_card4',\n",
    "         'V82',\n",
    "         'D3_DT_D_std_score',\n",
    "         'D10_intercept_bin3',\n",
    "         'bank_type_D2_std',\n",
    "         'V77',\n",
    "         'M7',\n",
    "         'D11',\n",
    "         'D4_intercept_bin2',\n",
    "         'email_check',\n",
    "         'V294',\n",
    "         'V317',\n",
    "         'V308',\n",
    "         'id_33_fq_enc',\n",
    "         'bank_type_D5_std',\n",
    "         'D8_intercept',\n",
    "         'V62',\n",
    "         'V187',\n",
    "         'card5_TransactionAmt_mean',\n",
    "         'bank_type_D12_mean',\n",
    "         'id_33_count_dist',\n",
    "         'D2_intercept_bin2',\n",
    "         'C10',\n",
    "         'V86',\n",
    "         'D8_DT_M_min_max',\n",
    "         'D15_intercept_bin4',\n",
    "         'D6_DT_W_std_score',\n",
    "         'uid5_D7_mean',\n",
    "         'C9_fq_enc',\n",
    "         'mxC10',\n",
    "         'D14_DT_W_std_score',\n",
    "         'card2_count_full',\n",
    "         'V258',\n",
    "         'bank_type_D14_std',\n",
    "         'D10_intercept_bin4',\n",
    "         'V83',\n",
    "         'bank_type_D13_std',\n",
    "         'D8_DT_W_min_max',\n",
    "         'TransactionAmt',\n",
    "         'V312',\n",
    "         'D14_intercept',\n",
    "         'id_33_1',\n",
    "         'D15_intercept_bin2',\n",
    "         'D12_DT_W_std_score',\n",
    "         'V78',\n",
    "         'D8_D9_decimal_dist',\n",
    "         'M9',\n",
    "         'V281',\n",
    "         'bank_type_D12_std',\n",
    "         'V54',\n",
    "         'C9',\n",
    "         'M4_target_mean',\n",
    "         'sum_Cxx_binary_higher_than_q90',\n",
    "         'D10_DT_D_min_max',\n",
    "         'bank_type_D3_mean',\n",
    "         'bank_type_D8_mean',\n",
    "         'R_emaildomain_prefix',\n",
    "         'bank_type_D6_mean',\n",
    "         'V314',\n",
    "         'D11_DT_W_std_score',\n",
    "         'D10',\n",
    "         'D4_DT_D_min_max',\n",
    "         'V283',\n",
    "         'D10_intercept_bin2',\n",
    "         'D13_intercept',\n",
    "         'D8_DT_D_min_max',\n",
    "         'C2_fq_enc',\n",
    "         'V165',\n",
    "         'D1_intercept_bin4',\n",
    "         'bank_type_D13_mean',\n",
    "         'D3_intercept',\n",
    "         'TransactionAmt_2Dec',\n",
    "         'card3_div_Mean_D9_DOY',\n",
    "         'C12',\n",
    "         'D4_DT_M_std_score',\n",
    "         'D2_intercept_bin1',\n",
    "         'mxC8',\n",
    "         'D2_fq_enc',\n",
    "         'addr1_third_digit',\n",
    "         'D4_fq_enc',\n",
    "         'D1_fq_enc',\n",
    "         'mxC12',\n",
    "         'D8',\n",
    "         'D10_intercept_bin1',\n",
    "         'id_01',\n",
    "         'id_09',\n",
    "         'id_03',\n",
    "         'addr1_second_digit',\n",
    "         'D15_to_mean_addr1',\n",
    "         'sum_Cxx_binary_higher_than_q80',\n",
    "         'V53',\n",
    "         'TransactionAmt_decimal',\n",
    "         'card3_div_Mean_D6_DOY',\n",
    "         'D15_intercept_bin3',\n",
    "         'V45',\n",
    "         'id_02_to_std_card4',\n",
    "         'addr2_div_Mean_D10_DOY_productCD',\n",
    "         'DeviceInfo_version',\n",
    "         'DeviceInfo_device',\n",
    "         'D1_intercept_bin3',\n",
    "         'D11_intercept',\n",
    "         'DeviceInfo_version_fq_enc',\n",
    "         'C6',\n",
    "         'uid5_D13_std',\n",
    "         'TransactionAmt_DT_M_min_max',\n",
    "         'dist2',\n",
    "         'C8',\n",
    "         'D15_intercept_bin1',\n",
    "         'M3',\n",
    "         'R_emaildomain_fq_enc',\n",
    "         'DeviceInfo_device_fq_enc',\n",
    "         'D6_DT_D_std_score',\n",
    "         'sum_Cxx_binary_higher_than_q60',\n",
    "         'D11__DeviceInfo',\n",
    "         'TranAmt_div_Mean_D12_DOY_productCD',\n",
    "         'D10_DT_M_std_score',\n",
    "         'uid5_D13_mean',\n",
    "         'mxC5',\n",
    "         'id_30',\n",
    "         'addr2_div_Mean_D4_DOY',\n",
    "         'uid2_D12_std',\n",
    "         'C11_fq_enc',\n",
    "         'id_06',\n",
    "         'uid2_D12_mean',\n",
    "         'sum_Cxx_binary_higher_than_q70',\n",
    "         'V310',\n",
    "         'V307',\n",
    "         'C6_fq_enc',\n",
    "         'D8_fq_enc',\n",
    "         'dist2_fq_enc',\n",
    "         'D2_intercept_bin0',\n",
    "         'addr1_div_Mean_D10_DOY_productCD',\n",
    "         'addr1_div_Mean_D10_DOY',\n",
    "         'addr1_div_Mean_D11_DOY',\n",
    "         'uid2_D8_std',\n",
    "         'id_02__id_20',\n",
    "         'V313',\n",
    "         'D4_intercept_bin0',\n",
    "         'D11_DT_D_std_score',\n",
    "         'Transaction_day_of_week',\n",
    "         'card6_div_Mean_D3_DOY',\n",
    "         'uid2_D1_std',\n",
    "         'uid5_D11_mean',\n",
    "         'uid_fq_enc',\n",
    "         'D14_DT_D_std_score',\n",
    "         'D12_DT_D_std_score',\n",
    "         'id_02_to_mean_card4',\n",
    "         'uid4_D13_std',\n",
    "         'D1_intercept_bin1',\n",
    "         'id_02_to_std_card1',\n",
    "         'uid5_D11_std',\n",
    "         'P_emaildomain_prefix',\n",
    "         'DT_day',\n",
    "         'D8_DT_M_std_score',\n",
    "         'uid2_D1_mean',\n",
    "         'TransactionAmt_to_mean_card4',\n",
    "         'card5_div_Mean_D11_DOY',\n",
    "         'D15_DT_M_std_score',\n",
    "         'V87',\n",
    "         'uid_D12_std',\n",
    "         'id_31_device_fq_enc',\n",
    "         'uid2_D11_mean',\n",
    "         'card3_DT_W_week_day_dist_best',\n",
    "         'uid5_D14_std',\n",
    "         'uid2_D15_mean',\n",
    "         'sum_Cxx_binary_higher_than_q50',\n",
    "         'id_13',\n",
    "         'card3_div_Mean_D11_DOY',\n",
    "         'C11',\n",
    "         'bank_type_DT_W_week_day_dist_best',\n",
    "         'card4_div_Mean_D11_DOY',\n",
    "         'addr1_div_Mean_D1_DOY',\n",
    "         'uid2_D4_mean',\n",
    "         'card2_div_Mean_D11_DOY',\n",
    "         'C13_fq_enc',\n",
    "         'uid4_D13_mean',\n",
    "         'card5_DT_W_week_day_dist_best',\n",
    "         'id_02',\n",
    "         'uid5_D14_mean',\n",
    "         'uid2_D10_mean',\n",
    "         'id_01_count_dist',\n",
    "         'D13_DT_W_std_score',\n",
    "         'C2',\n",
    "         'C14',\n",
    "         'addr2_div_Mean_D10_DOY',\n",
    "         'uid2_D11_std',\n",
    "         'addr1_div_Mean_D1_DOY_productCD',\n",
    "         'id_02_to_mean_card1',\n",
    "         'dist1_fq_enc',\n",
    "         'card1_div_Mean_D11_DOY',\n",
    "         'D15_to_std_card1',\n",
    "         'TransactionAmt_DT_M_std_score',\n",
    "         'uid2_D6_std',\n",
    "         'TransactionAmt_to_std_card4',\n",
    "         'uid2_D15_std',\n",
    "         'uid3_D8_std',\n",
    "         'card6_div_Mean_D11_DOY',\n",
    "         'TranAmt_div_Mean_D14_DOY',\n",
    "         'card3_div_Mean_D14_DOY',\n",
    "         'D2',\n",
    "         'D1',\n",
    "         'uid_D15_mean',\n",
    "         'uid4_D6_std',\n",
    "         'uid_D15_std',\n",
    "         'D10_intercept_bin0',\n",
    "         'DeviceInfo_fq_enc',\n",
    "         'uid2_D13_std',\n",
    "         'uid_D12_mean',\n",
    "         'uid4_D6_mean',\n",
    "         'uid_D1_std',\n",
    "         'D1_intercept_bin2',\n",
    "         'uid_D10_mean',\n",
    "         'card2__id_20',\n",
    "         'uid4_D7_std',\n",
    "         'uid3_D13_std',\n",
    "         'C14_fq_enc',\n",
    "         'uid_D8_std',\n",
    "         'uid3_D13_mean',\n",
    "         'uid2_D4_std',\n",
    "         'addr1_div_Mean_D4_DOY',\n",
    "         'uid_D4_mean',\n",
    "         'D4_DT_W_std_score',\n",
    "         'addr2_div_Mean_D1_DOY_productCD',\n",
    "         'uid_D11_mean',\n",
    "         'D15_intercept_bin0',\n",
    "         'uid2_D10_std',\n",
    "         'uid_D13_std',\n",
    "         'uid2_fq_enc',\n",
    "         'uid2_D13_mean',\n",
    "         'uid2_D2_mean',\n",
    "         'D2_intercept',\n",
    "         'uid_D11_std',\n",
    "         'card2',\n",
    "         'uid4_D14_std',\n",
    "         'C_sum_after_clip75',\n",
    "         'R_emaildomain',\n",
    "         'dist1',\n",
    "         'id_05',\n",
    "         'uid_TransactionAmt_mean',\n",
    "         'uid_D1_mean',\n",
    "         'uid3_D1_std',\n",
    "         'uid5_D8_std',\n",
    "         'uid3_D6_std',\n",
    "         'Transaction_hour_of_day',\n",
    "         'uid4_D14_mean',\n",
    "         'uid5_D10_std',\n",
    "         'uid3_D10_std',\n",
    "         'uid5_D1_std',\n",
    "         'uid5_D15_std',\n",
    "         'uid2_D7_mean',\n",
    "         'uid3_D11_std',\n",
    "         'uid4_D8_std',\n",
    "         'D13_DT_D_std_score',\n",
    "         'uid3_D11_mean',\n",
    "         'uid2_D14_std',\n",
    "         'uid2_D7_std',\n",
    "         'uid2_D14_mean',\n",
    "         'uid_D13_mean',\n",
    "         'uid_D10_std',\n",
    "         'uid2_D3_std',\n",
    "         'uid_D6_std',\n",
    "         'uid3_D15_std',\n",
    "         'addr1_fq_enc',\n",
    "         'id_31',\n",
    "         'uid_TransactionAmt_std',\n",
    "         'card1_div_Mean_D4_DOY_productCD',\n",
    "         'uid2_TransactionAmt_mean',\n",
    "         'C_sum_after_clip90',\n",
    "         'uid2_TransactionAmt_std',\n",
    "         'uid4_D7_mean',\n",
    "         'uid2_D6_mean',\n",
    "         'uid3_D15_mean',\n",
    "         'D15_to_mean_card1',\n",
    "         'uid5_D15_mean',\n",
    "         'M4',\n",
    "         'uid3_D7_std',\n",
    "         'card2_div_Mean_D4_DOY',\n",
    "         'card5_div_Mean_D4_DOY_productCD',\n",
    "         'card5_div_Mean_D4_DOY',\n",
    "         'D4_intercept',\n",
    "         'uid_D4_std',\n",
    "         'card6_div_Mean_D4_DOY_productCD',\n",
    "         'card5__P_emaildomain',\n",
    "         'card1_fq_enc',\n",
    "         'uid5_D10_mean',\n",
    "         'card1_div_Mean_D4_DOY',\n",
    "         'C1',\n",
    "         'M6',\n",
    "         'uid2_D2_std',\n",
    "         'P_emaildomain_fq_enc',\n",
    "         'card1_TransactionAmt_mean',\n",
    "         'uid3_D10_mean',\n",
    "         'TransactionAmt_DT_W_min_max',\n",
    "         'uid5_D4_std',\n",
    "         'card1_div_Mean_D10_DOY_productCD',\n",
    "         'uid3_D1_mean',\n",
    "         'card1_div_Mean_D10_DOY',\n",
    "         'uid_D14_mean',\n",
    "         'mxC9',\n",
    "         'TranAmt_div_Mean_D4_DOY_productCD',\n",
    "         'D15_DT_W_std_score',\n",
    "         'DeviceInfo__P_emaildomain',\n",
    "         'uid3_D14_mean',\n",
    "         'bank_type_DT_M',\n",
    "         'mxC11',\n",
    "         'uid5_D1_mean',\n",
    "         'uid_D2_mean',\n",
    "         'D10_DT_W_std_score',\n",
    "         'card3_DT_M_month_day_dist_best',\n",
    "         'uid3_D2_std',\n",
    "         'TranAmt_div_Mean_D4_DOY',\n",
    "         'card1_TransactionAmt_std',\n",
    "         'card3_div_Mean_D4_DOY_productCD',\n",
    "         'D1_intercept_bin0',\n",
    "         'uid3_D4_std',\n",
    "         'card2_div_Mean_D10_DOY',\n",
    "         'uid_D2_std',\n",
    "         'uid3_D14_std',\n",
    "         'uid3_D4_mean',\n",
    "         'uid_D7_mean',\n",
    "         'uid5_D2_std',\n",
    "         'card4_div_Mean_D4_DOY_productCD',\n",
    "         'card6_div_Mean_D4_DOY',\n",
    "         'TranAmt_div_Mean_D10_DOY',\n",
    "         'uid2_D9_std',\n",
    "         'TransactionAmt_DT_W_std_score',\n",
    "         'C1_fq_enc',\n",
    "         'card1_div_Mean_D1_DOY',\n",
    "         'uid5_D4_mean',\n",
    "         'uid3_D6_mean',\n",
    "         'mxC14',\n",
    "         'uid5_D2_mean',\n",
    "         'card4_div_Mean_D4_DOY',\n",
    "         'card3_div_Mean_D4_DOY',\n",
    "         'uid_D14_std',\n",
    "         'M5',\n",
    "         'C13',\n",
    "         'mxC6',\n",
    "         'card5_div_Mean_D10_DOY_productCD',\n",
    "         'card3_DT_M_month_day_dist',\n",
    "         'card2_div_Mean_D10_DOY_productCD',\n",
    "         'uid_D7_std',\n",
    "         'card2_div_Mean_D4_DOY_productCD',\n",
    "         'bank_type_DT_M_month_day_dist',\n",
    "         'uid3_D7_mean',\n",
    "         'uid_D3_std',\n",
    "         'uid5_fq_enc',\n",
    "         'uid3_fq_enc',\n",
    "         'uid_D3_mean',\n",
    "         'D4_DT_D_std_score',\n",
    "         'uid3_D2_mean',\n",
    "         'uid4_D1_std',\n",
    "         'uid2_D5_std',\n",
    "         'uid4_D10_std',\n",
    "         'bank_type_DT_D_hour_dist_best',\n",
    "         'uid2_D8_mean',\n",
    "         'card6_div_Mean_D10_DOY_productCD',\n",
    "         'card1_div_Mean_D1_DOY_productCD',\n",
    "         'uid5_D9_std',\n",
    "         'card4_div_Mean_D10_DOY_productCD',\n",
    "         'uid2_D3_mean',\n",
    "         'uid_D6_mean',\n",
    "         'card2_div_Mean_D1_DOY',\n",
    "         'card5_div_Mean_D10_DOY',\n",
    "         'mxC2',\n",
    "         'card2_TransactionAmt_std',\n",
    "         'bank_type_DT_W_week_day_dist',\n",
    "         'card2_TransactionAmt_mean',\n",
    "         'uid4_D10_mean',\n",
    "         'id_31_count_dist',\n",
    "         'TranAmt_div_Mean_D1_DOY',\n",
    "         'uid3_D3_std',\n",
    "         'uid4_D15_std',\n",
    "         'card5_div_Mean_D1_DOY_productCD',\n",
    "         'card4_div_Mean_D10_DOY',\n",
    "         'card5_DT_D_hour_dist_best',\n",
    "         'uid4_D4_std',\n",
    "         'card5_DT_M_month_day_dist',\n",
    "         'bank_type_DT_W',\n",
    "         'addr1__card1',\n",
    "         'bank_type_DT_M_month_day_dist_best',\n",
    "         'card2_div_Mean_D1_DOY_productCD',\n",
    "         'card6_div_Mean_D10_DOY',\n",
    "         'uid2_D5_mean',\n",
    "         'uid_DT_M',\n",
    "         'card2__dist1',\n",
    "         'uid2_D9_mean',\n",
    "         'card5_DT_M_month_day_dist_best',\n",
    "         'TranAmt_div_Mean_D10_DOY_productCD',\n",
    "         'uid4_D11_std',\n",
    "         'uid_D5_mean',\n",
    "         'uid5_D3_std',\n",
    "         'TransactionAmt_DT_D_std_score',\n",
    "         'D8_DT_W_std_score',\n",
    "         'card5_DT_W_week_day_dist',\n",
    "         'uid5_D5_std',\n",
    "         'card3_DT_W_week_day_dist',\n",
    "         'uid4_D9_std',\n",
    "         'D10_intercept',\n",
    "         'uid3_D3_mean',\n",
    "         'uid4_D5_std',\n",
    "         'uid_D5_std',\n",
    "         'card5_div_Mean_D1_DOY',\n",
    "         'uid5_D3_mean',\n",
    "         'bank_type_DT_D',\n",
    "         'uid4_D1_mean',\n",
    "         'uid_D8_mean',\n",
    "         'uid3_D5_mean',\n",
    "         'D15_intercept',\n",
    "         'uid5_TransactionAmt_std',\n",
    "         'uid3_D5_std',\n",
    "         'uid4_D4_mean',\n",
    "         'uid4_D15_mean',\n",
    "         'uid5_D8_mean',\n",
    "         'uid5_D9_mean',\n",
    "         'uid_D9_std',\n",
    "         'uid_D9_mean',\n",
    "         'uid5_D5_mean',\n",
    "         'mtransamt',\n",
    "         'bank_type_DT_D_hour_dist',\n",
    "         'uid4_D11_mean',\n",
    "         'D15_DT_D_std_score',\n",
    "         'TransactionAmt_DT_D_min_max',\n",
    "         'uid4_D2_mean',\n",
    "         'ntrans',\n",
    "         'addr2_div_Mean_D1_DOY',\n",
    "         'uid5_TransactionAmt_mean',\n",
    "         'uid3_D9_std',\n",
    "         'TransactionAmt_Dec',\n",
    "         'uid3_TransactionAmt_std',\n",
    "         'card5_DT_D_hour_dist',\n",
    "         'card1',\n",
    "         'card4_div_Mean_D1_DOY_productCD',\n",
    "         'P_emaildomain__C2',\n",
    "         'card3_div_Mean_D10_DOY',\n",
    "         'uid4_D3_std',\n",
    "         'card3_DT_D_hour_dist_best',\n",
    "         'uid4_D8_mean',\n",
    "         'uid4_D2_std',\n",
    "         'card6_div_Mean_D1_DOY_productCD',\n",
    "         'uid_DT_W',\n",
    "         'Sum_TransAmt_Day',\n",
    "         'uid4_D5_mean',\n",
    "         'card4_div_Mean_D1_DOY',\n",
    "         'card3_div_Mean_D10_DOY_productCD',\n",
    "         'uid3_D8_mean',\n",
    "         'TransactionAmt_userid_median',\n",
    "         'uid4_fq_enc',\n",
    "         'uid3_TransactionAmt_mean',\n",
    "         'uid3_D9_mean',\n",
    "         'card6_div_Mean_D1_DOY',\n",
    "         'Trans_Count_Day',\n",
    "         'mxC1',\n",
    "         'D10_DT_D_std_score',\n",
    "         'card3_div_Mean_D1_DOY',\n",
    "         'TransactionAmt_to_mean_card1',\n",
    "         'card2_fq_enc',\n",
    "         'product_type',\n",
    "         'card3_div_Mean_D1_DOY_productCD',\n",
    "         'TransactionAmt_to_std_card1',\n",
    "         'uid_DT_D',\n",
    "         'uid4_D9_mean',\n",
    "         'D1_intercept',\n",
    "         'card3_DT_D_hour_dist',\n",
    "         'TranAmt_div_Mean_D1_DOY_productCD',\n",
    "         'product_type_DT_M',\n",
    "         'uid4_D3_mean',\n",
    "         'uid4_TransactionAmt_mean',\n",
    "         'uid4_TransactionAmt_std',\n",
    "         'D8_DT_D_std_score',\n",
    "         'Mean_TransAmt_Day',\n",
    "         'minDT',\n",
    "         'product_type_DT_W',\n",
    "         'mintransamt',\n",
    "         'maxtransamt',\n",
    "         'TransactionAmt_userid_std',\n",
    "         'P_emaildomain',\n",
    "         'card1__card5',\n",
    "         'product_type_DT_D',\n",
    "         'mxC13',\n",
    "         'maxDT',\n",
    "         'id_19',\n",
    "         'DeviceInfo',\n",
    "         'id_20',\n",
    "         'addr1',\n",
    "         'userid_min_C1',\n",
    "         'userid_max_C1',\n",
    "         'userid_max_minus_min_C1',\n",
    "         'userid_unique_C1',\n",
    "         'userid_mean_C1',\n",
    "         'userid_min_C2',\n",
    "         'userid_max_C2',\n",
    "         'userid_max_minus_min_C2',\n",
    "         'userid_unique_C2',\n",
    "         'userid_mean_C2',\n",
    "         'userid_min_C3',\n",
    "         'userid_max_C3',\n",
    "         'userid_max_minus_min_C3',\n",
    "         'userid_unique_C3',\n",
    "         'userid_mean_C3',\n",
    "         'userid_min_C4',\n",
    "         'userid_max_C4',\n",
    "         'userid_max_minus_min_C4',\n",
    "         'userid_unique_C4',\n",
    "         'userid_mean_C4',\n",
    "         'userid_min_C5',\n",
    "         'userid_max_C5',\n",
    "         'userid_max_minus_min_C5',\n",
    "         'userid_unique_C5',\n",
    "         'userid_mean_C5',\n",
    "         'userid_min_C6',\n",
    "         'userid_max_C6',\n",
    "         'userid_max_minus_min_C6',\n",
    "         'userid_unique_C6',\n",
    "         'userid_mean_C6',\n",
    "         'userid_min_C7',\n",
    "         'userid_max_C7',\n",
    "         'userid_max_minus_min_C7',\n",
    "         'userid_unique_C7',\n",
    "         'userid_mean_C7',\n",
    "         'userid_min_C8',\n",
    "         'userid_max_C8',\n",
    "         'userid_max_minus_min_C8',\n",
    "         'userid_unique_C8',\n",
    "         'userid_mean_C8',\n",
    "         'userid_min_C9',\n",
    "         'userid_max_C9',\n",
    "         'userid_max_minus_min_C9',\n",
    "         'userid_unique_C9',\n",
    "         'userid_mean_C9',\n",
    "         'userid_min_C10',\n",
    "         'userid_max_C10',\n",
    "         'userid_max_minus_min_C10',\n",
    "         'userid_unique_C10',\n",
    "         'userid_mean_C10',\n",
    "         'userid_min_C11',\n",
    "         'userid_max_C11',\n",
    "         'userid_max_minus_min_C11',\n",
    "         'userid_unique_C11',\n",
    "         'userid_mean_C11',\n",
    "         'userid_min_C12',\n",
    "         'userid_max_C12',\n",
    "         'userid_max_minus_min_C12',\n",
    "         'userid_unique_C12',\n",
    "         'userid_mean_C12',\n",
    "         'userid_min_C13',\n",
    "         'userid_max_C13',\n",
    "         'userid_max_minus_min_C13',\n",
    "         'userid_unique_C13',\n",
    "         'userid_mean_C13',\n",
    "         'userid_min_C14',\n",
    "         'userid_max_C14',\n",
    "         'userid_max_minus_min_C14',\n",
    "         'userid_unique_C14',\n",
    "         'userid_mean_C14',\n",
    "            'hour',\n",
    "         'hour_sin',\n",
    "         'week',\n",
    "         'week_sin',\n",
    "         'week_cos',\n",
    "         'month',\n",
    "         'life_of_customer',\n",
    "         'addr1_broad_area',\n",
    "         'uid6_TransactionAmt_mean',\n",
    "         'uid6_TransactionAmt_std',\n",
    "         'hour_TransactionAmt_mean',\n",
    "         'hour_TransactionAmt_std',\n",
    "         'week_TransactionAmt_mean',\n",
    "         'week_TransactionAmt_std',\n",
    "         'D1_diff',\n",
    "         'D10_diff',\n",
    "         'D15_diff',\n",
    "         'new_identity_M5_mean',\n",
    "         'new_identity_M6_mean',\n",
    "         'new_identity_V315_mean',\n",
    "         'new_identity_D1_diff_mean',\n",
    "         'new_identity_D3_mean',\n",
    "         'new_identity_D10_diff_mean',\n",
    "         'new_identity_D15_diff_mean',\n",
    "         'addr1_addr2_new_identity_M5_mean_mean',\n",
    "         'addr1_addr2_new_identity_M5_mean_std',\n",
    "         'addr1_addr2_new_identity_M6_mean_mean',\n",
    "         'addr1_addr2_new_identity_M6_mean_std',\n",
    "         'addr1_addr2_new_identity_V315_mean_mean',\n",
    "         'addr1_addr2_new_identity_V315_mean_std',\n",
    "         'addr1_addr2_new_identity_D1_diff_mean_mean',\n",
    "         'addr1_addr2_new_identity_D1_diff_mean_std',\n",
    "         'addr1_addr2_new_identity_D10_diff_mean_mean',\n",
    "         'addr1_addr2_new_identity_D10_diff_mean_std',\n",
    "         'addr1_addr2_new_identity_D15_diff_mean_mean',\n",
    "         'addr1_addr2_new_identity_D15_diff_mean_std',\n",
    "         'new_identity_ProductCD_TransactionAmt_mean',\n",
    "         'uid6_C1_mean',\n",
    "         'uid6_C1_std',\n",
    "         'uid6_V54_mean',\n",
    "         'uid6_V54_std',\n",
    "         'uid6_V281_mean',\n",
    "         'uid6_V281_std',\n",
    "         'uid6_C11_mean',\n",
    "         'uid6_C11_std',\n",
    "         'uid6_D4_mean',\n",
    "         'uid6_D4_std',\n",
    "         'uid6_V67_mean',\n",
    "         'uid6_V67_std',\n",
    "         'uid6_V320_mean',\n",
    "         'uid6_V320_std',\n",
    "         'uid6_M5_mean',\n",
    "         'uid6_M5_std',\n",
    "         'uid6_M6_mean',\n",
    "         'uid6_M6_std',\n",
    "         'uid3_V67_mean',\n",
    "         'uid3_V67_std',\n",
    "         'uid3_V83_mean',\n",
    "         'uid3_V83_std',\n",
    "         'uid6_fq_enc',\n",
    "         'card4_fq_enc',\n",
    "         'card6_fq_enc',\n",
    "         'ProductCD_fq_enc',\n",
    "         'M4_fq_enc',\n",
    "         'addr_fq_enc',\n",
    "         'R_emaildomain_V118_mean',\n",
    "         'R_emaildomain_V118_std',\n",
    "         'R_emaildomain_V119_mean',\n",
    "         'R_emaildomain_V119_std',\n",
    "         'card1_V20_mean',\n",
    "         'card1_V20_std',\n",
    "         'card1_V151_mean',\n",
    "         'card1_V151_std',\n",
    "         'card1_V67_mean',\n",
    "         'card1_V67_std',\n",
    "         'hour_V116_mean',\n",
    "         'hour_V116_std']"
   ]
  },
  {
   "cell_type": "code",
   "execution_count": 3,
   "metadata": {},
   "outputs": [
    {
     "data": {
      "text/plain": [
       "376.5"
      ]
     },
     "execution_count": 3,
     "metadata": {},
     "output_type": "execute_result"
    }
   ],
   "source": [
    "len(FEATURES)/2"
   ]
  },
  {
   "cell_type": "code",
   "execution_count": 4,
   "metadata": {},
   "outputs": [],
   "source": [
    "tr = pd.read_parquet('../../data/train_FE012.parquet', columns=['TransactionID','isFraud','TransactionDT']+FEATURES[600:])\n",
    "te = pd.read_parquet('../../data/test_FE012.parquet', columns=['TransactionID','TransactionDT']+FEATURES[600:])"
   ]
  },
  {
   "cell_type": "code",
   "execution_count": 5,
   "metadata": {},
   "outputs": [],
   "source": [
    "COLS_TO_DROP = ['D3_intercept_bin0',\n",
    " 'D14_intercept_bin0',\n",
    " 'D13_intercept_bin0',\n",
    " 'D11_intercept_bin2',\n",
    " 'D4_intercept_bin3',\n",
    " 'D2_intercept_bin3',\n",
    " 'D4_intercept_bin4',\n",
    " 'D11_intercept_bin0',\n",
    " 'D8_intercept_bin0',\n",
    " 'D4_intercept_bin1',\n",
    " 'D10_intercept_bin3',\n",
    " 'D4_intercept_bin2',\n",
    " 'D2_intercept_bin2',\n",
    " 'D15_intercept_bin4',\n",
    " 'D10_intercept_bin4',\n",
    " 'D15_intercept_bin2',\n",
    " 'D10_intercept_bin2',\n",
    " 'D1_intercept_bin4',\n",
    " 'D2_intercept_bin1',\n",
    " 'D10_intercept_bin1',\n",
    " 'D15_intercept_bin3',\n",
    " 'D1_intercept_bin3',\n",
    " 'D15_intercept_bin1',\n",
    " 'D2_intercept_bin0',\n",
    " 'D4_intercept_bin0',\n",
    " 'D1_intercept_bin1',\n",
    " 'D10_intercept_bin0',\n",
    " 'D1_intercept_bin2',\n",
    " 'D15_intercept_bin0',\n",
    " 'D1_intercept_bin0']"
   ]
  },
  {
   "cell_type": "code",
   "execution_count": 6,
   "metadata": {},
   "outputs": [],
   "source": [
    "tr.drop([col for col in tr.columns if col in COLS_TO_DROP],axis=1,inplace=True)\n",
    "te.drop([col for col in te.columns if col in COLS_TO_DROP],axis=1,inplace=True)"
   ]
  },
  {
   "cell_type": "code",
   "execution_count": 7,
   "metadata": {},
   "outputs": [
    {
     "data": {
      "text/html": [
       "<div>\n",
       "<style scoped>\n",
       "    .dataframe tbody tr th:only-of-type {\n",
       "        vertical-align: middle;\n",
       "    }\n",
       "\n",
       "    .dataframe tbody tr th {\n",
       "        vertical-align: top;\n",
       "    }\n",
       "\n",
       "    .dataframe thead th {\n",
       "        text-align: right;\n",
       "    }\n",
       "</style>\n",
       "<table border=\"1\" class=\"dataframe\">\n",
       "  <thead>\n",
       "    <tr style=\"text-align: right;\">\n",
       "      <th></th>\n",
       "      <th>TransactionID</th>\n",
       "      <th>isFraud</th>\n",
       "      <th>TransactionDT</th>\n",
       "      <th>mxC13</th>\n",
       "      <th>maxDT</th>\n",
       "      <th>id_19</th>\n",
       "      <th>DeviceInfo</th>\n",
       "      <th>id_20</th>\n",
       "      <th>addr1</th>\n",
       "      <th>userid_min_C1</th>\n",
       "      <th>...</th>\n",
       "      <th>R_emaildomain_V119_mean</th>\n",
       "      <th>R_emaildomain_V119_std</th>\n",
       "      <th>card1_V20_mean</th>\n",
       "      <th>card1_V20_std</th>\n",
       "      <th>card1_V151_mean</th>\n",
       "      <th>card1_V151_std</th>\n",
       "      <th>card1_V67_mean</th>\n",
       "      <th>card1_V67_std</th>\n",
       "      <th>hour_V116_mean</th>\n",
       "      <th>hour_V116_std</th>\n",
       "    </tr>\n",
       "  </thead>\n",
       "  <tbody>\n",
       "    <tr>\n",
       "      <td>0</td>\n",
       "      <td>2987000</td>\n",
       "      <td>0.0</td>\n",
       "      <td>86400</td>\n",
       "      <td>1.0</td>\n",
       "      <td>0.000000e+00</td>\n",
       "      <td>NaN</td>\n",
       "      <td>2564</td>\n",
       "      <td>NaN</td>\n",
       "      <td>315.0</td>\n",
       "      <td>1.0</td>\n",
       "      <td>...</td>\n",
       "      <td>1.000681</td>\n",
       "      <td>0.03321</td>\n",
       "      <td>1.108696</td>\n",
       "      <td>0.737210</td>\n",
       "      <td>7.913043</td>\n",
       "      <td>18.123097</td>\n",
       "      <td>1.232558</td>\n",
       "      <td>0.570597</td>\n",
       "      <td>1.016607</td>\n",
       "      <td>0.135997</td>\n",
       "    </tr>\n",
       "    <tr>\n",
       "      <td>1</td>\n",
       "      <td>2987001</td>\n",
       "      <td>0.0</td>\n",
       "      <td>86401</td>\n",
       "      <td>1.0</td>\n",
       "      <td>6.359409e-08</td>\n",
       "      <td>NaN</td>\n",
       "      <td>2564</td>\n",
       "      <td>NaN</td>\n",
       "      <td>325.0</td>\n",
       "      <td>1.0</td>\n",
       "      <td>...</td>\n",
       "      <td>1.000681</td>\n",
       "      <td>0.03321</td>\n",
       "      <td>0.790845</td>\n",
       "      <td>0.540298</td>\n",
       "      <td>7.608696</td>\n",
       "      <td>16.414957</td>\n",
       "      <td>1.001586</td>\n",
       "      <td>0.186864</td>\n",
       "      <td>1.016607</td>\n",
       "      <td>0.135997</td>\n",
       "    </tr>\n",
       "    <tr>\n",
       "      <td>2</td>\n",
       "      <td>2987002</td>\n",
       "      <td>0.0</td>\n",
       "      <td>86469</td>\n",
       "      <td>5.0</td>\n",
       "      <td>9.281670e-01</td>\n",
       "      <td>NaN</td>\n",
       "      <td>2564</td>\n",
       "      <td>NaN</td>\n",
       "      <td>330.0</td>\n",
       "      <td>1.0</td>\n",
       "      <td>...</td>\n",
       "      <td>1.000681</td>\n",
       "      <td>0.03321</td>\n",
       "      <td>0.920404</td>\n",
       "      <td>0.403780</td>\n",
       "      <td>13.400000</td>\n",
       "      <td>20.435264</td>\n",
       "      <td>0.993834</td>\n",
       "      <td>0.207720</td>\n",
       "      <td>1.016607</td>\n",
       "      <td>0.135997</td>\n",
       "    </tr>\n",
       "    <tr>\n",
       "      <td>3</td>\n",
       "      <td>2987003</td>\n",
       "      <td>0.0</td>\n",
       "      <td>86499</td>\n",
       "      <td>47.0</td>\n",
       "      <td>3.340526e-01</td>\n",
       "      <td>NaN</td>\n",
       "      <td>2564</td>\n",
       "      <td>NaN</td>\n",
       "      <td>476.0</td>\n",
       "      <td>2.0</td>\n",
       "      <td>...</td>\n",
       "      <td>1.000681</td>\n",
       "      <td>0.03321</td>\n",
       "      <td>0.852033</td>\n",
       "      <td>0.482982</td>\n",
       "      <td>3.253165</td>\n",
       "      <td>9.750411</td>\n",
       "      <td>1.010475</td>\n",
       "      <td>0.194549</td>\n",
       "      <td>1.016607</td>\n",
       "      <td>0.135997</td>\n",
       "    </tr>\n",
       "    <tr>\n",
       "      <td>4</td>\n",
       "      <td>2987004</td>\n",
       "      <td>0.0</td>\n",
       "      <td>86506</td>\n",
       "      <td>1.0</td>\n",
       "      <td>6.740974e-06</td>\n",
       "      <td>542.0</td>\n",
       "      <td>1663</td>\n",
       "      <td>144.0</td>\n",
       "      <td>420.0</td>\n",
       "      <td>1.0</td>\n",
       "      <td>...</td>\n",
       "      <td>1.000681</td>\n",
       "      <td>0.03321</td>\n",
       "      <td>1.000000</td>\n",
       "      <td>0.565685</td>\n",
       "      <td>17.888889</td>\n",
       "      <td>24.624401</td>\n",
       "      <td>1.230769</td>\n",
       "      <td>0.429669</td>\n",
       "      <td>1.016607</td>\n",
       "      <td>0.135997</td>\n",
       "    </tr>\n",
       "  </tbody>\n",
       "</table>\n",
       "<p>5 rows × 156 columns</p>\n",
       "</div>"
      ],
      "text/plain": [
       "   TransactionID  isFraud  TransactionDT  mxC13         maxDT  id_19  \\\n",
       "0        2987000      0.0          86400    1.0  0.000000e+00    NaN   \n",
       "1        2987001      0.0          86401    1.0  6.359409e-08    NaN   \n",
       "2        2987002      0.0          86469    5.0  9.281670e-01    NaN   \n",
       "3        2987003      0.0          86499   47.0  3.340526e-01    NaN   \n",
       "4        2987004      0.0          86506    1.0  6.740974e-06  542.0   \n",
       "\n",
       "   DeviceInfo  id_20  addr1  userid_min_C1  ...  R_emaildomain_V119_mean  \\\n",
       "0        2564    NaN  315.0            1.0  ...                 1.000681   \n",
       "1        2564    NaN  325.0            1.0  ...                 1.000681   \n",
       "2        2564    NaN  330.0            1.0  ...                 1.000681   \n",
       "3        2564    NaN  476.0            2.0  ...                 1.000681   \n",
       "4        1663  144.0  420.0            1.0  ...                 1.000681   \n",
       "\n",
       "   R_emaildomain_V119_std  card1_V20_mean  card1_V20_std  card1_V151_mean  \\\n",
       "0                 0.03321        1.108696       0.737210         7.913043   \n",
       "1                 0.03321        0.790845       0.540298         7.608696   \n",
       "2                 0.03321        0.920404       0.403780        13.400000   \n",
       "3                 0.03321        0.852033       0.482982         3.253165   \n",
       "4                 0.03321        1.000000       0.565685        17.888889   \n",
       "\n",
       "   card1_V151_std  card1_V67_mean  card1_V67_std  hour_V116_mean  \\\n",
       "0       18.123097        1.232558       0.570597        1.016607   \n",
       "1       16.414957        1.001586       0.186864        1.016607   \n",
       "2       20.435264        0.993834       0.207720        1.016607   \n",
       "3        9.750411        1.010475       0.194549        1.016607   \n",
       "4       24.624401        1.230769       0.429669        1.016607   \n",
       "\n",
       "   hour_V116_std  \n",
       "0       0.135997  \n",
       "1       0.135997  \n",
       "2       0.135997  \n",
       "3       0.135997  \n",
       "4       0.135997  \n",
       "\n",
       "[5 rows x 156 columns]"
      ]
     },
     "execution_count": 7,
     "metadata": {},
     "output_type": "execute_result"
    }
   ],
   "source": [
    "tr.head()"
   ]
  },
  {
   "cell_type": "markdown",
   "metadata": {},
   "source": [
    "# Only keep private"
   ]
  },
  {
   "cell_type": "code",
   "execution_count": 8,
   "metadata": {},
   "outputs": [
    {
     "data": {
      "text/plain": [
       "3176"
      ]
     },
     "execution_count": 8,
     "metadata": {},
     "output_type": "execute_result"
    }
   ],
   "source": [
    "te = te.loc[te['TransactionID']>3764887]\n",
    "gc.collect()"
   ]
  },
  {
   "cell_type": "markdown",
   "metadata": {},
   "source": [
    "# Prepare for adv validation"
   ]
  },
  {
   "cell_type": "code",
   "execution_count": 9,
   "metadata": {},
   "outputs": [],
   "source": [
    "tr['i_am_train'] = 1\n",
    "te['i_am_train'] = 0"
   ]
  },
  {
   "cell_type": "code",
   "execution_count": 10,
   "metadata": {},
   "outputs": [],
   "source": [
    "te['isFraud'] = -1"
   ]
  },
  {
   "cell_type": "code",
   "execution_count": 11,
   "metadata": {},
   "outputs": [
    {
     "data": {
      "text/plain": [
       "((590540, 157), (405352, 157))"
      ]
     },
     "execution_count": 11,
     "metadata": {},
     "output_type": "execute_result"
    }
   ],
   "source": [
    "tr.shape, te.shape"
   ]
  },
  {
   "cell_type": "code",
   "execution_count": 12,
   "metadata": {},
   "outputs": [],
   "source": [
    "full_df = pd.concat([tr, te], axis=0, sort=True).reset_index(drop=True)"
   ]
  },
  {
   "cell_type": "code",
   "execution_count": 13,
   "metadata": {},
   "outputs": [
    {
     "data": {
      "text/html": [
       "<div>\n",
       "<style scoped>\n",
       "    .dataframe tbody tr th:only-of-type {\n",
       "        vertical-align: middle;\n",
       "    }\n",
       "\n",
       "    .dataframe tbody tr th {\n",
       "        vertical-align: top;\n",
       "    }\n",
       "\n",
       "    .dataframe thead th {\n",
       "        text-align: right;\n",
       "    }\n",
       "</style>\n",
       "<table border=\"1\" class=\"dataframe\">\n",
       "  <thead>\n",
       "    <tr style=\"text-align: right;\">\n",
       "      <th></th>\n",
       "      <th>D10_diff</th>\n",
       "      <th>D15_diff</th>\n",
       "      <th>D1_diff</th>\n",
       "      <th>DeviceInfo</th>\n",
       "      <th>M4_fq_enc</th>\n",
       "      <th>ProductCD_fq_enc</th>\n",
       "      <th>R_emaildomain_V118_mean</th>\n",
       "      <th>R_emaildomain_V118_std</th>\n",
       "      <th>R_emaildomain_V119_mean</th>\n",
       "      <th>R_emaildomain_V119_std</th>\n",
       "      <th>...</th>\n",
       "      <th>userid_unique_C5</th>\n",
       "      <th>userid_unique_C6</th>\n",
       "      <th>userid_unique_C7</th>\n",
       "      <th>userid_unique_C8</th>\n",
       "      <th>userid_unique_C9</th>\n",
       "      <th>week</th>\n",
       "      <th>week_TransactionAmt_mean</th>\n",
       "      <th>week_TransactionAmt_std</th>\n",
       "      <th>week_cos</th>\n",
       "      <th>week_sin</th>\n",
       "    </tr>\n",
       "  </thead>\n",
       "  <tbody>\n",
       "    <tr>\n",
       "      <td>0</td>\n",
       "      <td>NaN</td>\n",
       "      <td>NaN</td>\n",
       "      <td>NaN</td>\n",
       "      <td>2564</td>\n",
       "      <td>122947.0</td>\n",
       "      <td>800657</td>\n",
       "      <td>1.001712</td>\n",
       "      <td>0.043146</td>\n",
       "      <td>1.000681</td>\n",
       "      <td>0.033210</td>\n",
       "      <td>...</td>\n",
       "      <td>1.0</td>\n",
       "      <td>1.0</td>\n",
       "      <td>1.0</td>\n",
       "      <td>1.0</td>\n",
       "      <td>1.0</td>\n",
       "      <td>48</td>\n",
       "      <td>148.753721</td>\n",
       "      <td>263.413862</td>\n",
       "      <td>0.885456</td>\n",
       "      <td>-0.464723</td>\n",
       "    </tr>\n",
       "    <tr>\n",
       "      <td>1</td>\n",
       "      <td>NaN</td>\n",
       "      <td>NaN</td>\n",
       "      <td>NaN</td>\n",
       "      <td>2564</td>\n",
       "      <td>357789.0</td>\n",
       "      <td>800657</td>\n",
       "      <td>1.001712</td>\n",
       "      <td>0.043146</td>\n",
       "      <td>1.000681</td>\n",
       "      <td>0.033210</td>\n",
       "      <td>...</td>\n",
       "      <td>1.0</td>\n",
       "      <td>1.0</td>\n",
       "      <td>1.0</td>\n",
       "      <td>1.0</td>\n",
       "      <td>1.0</td>\n",
       "      <td>48</td>\n",
       "      <td>148.753721</td>\n",
       "      <td>263.413862</td>\n",
       "      <td>0.885456</td>\n",
       "      <td>-0.464723</td>\n",
       "    </tr>\n",
       "    <tr>\n",
       "      <td>2</td>\n",
       "      <td>NaN</td>\n",
       "      <td>NaN</td>\n",
       "      <td>NaN</td>\n",
       "      <td>2564</td>\n",
       "      <td>357789.0</td>\n",
       "      <td>800657</td>\n",
       "      <td>1.001712</td>\n",
       "      <td>0.043146</td>\n",
       "      <td>1.000681</td>\n",
       "      <td>0.033210</td>\n",
       "      <td>...</td>\n",
       "      <td>1.0</td>\n",
       "      <td>2.0</td>\n",
       "      <td>1.0</td>\n",
       "      <td>1.0</td>\n",
       "      <td>1.0</td>\n",
       "      <td>48</td>\n",
       "      <td>148.753721</td>\n",
       "      <td>263.413862</td>\n",
       "      <td>0.885456</td>\n",
       "      <td>-0.464723</td>\n",
       "    </tr>\n",
       "    <tr>\n",
       "      <td>3</td>\n",
       "      <td>NaN</td>\n",
       "      <td>NaN</td>\n",
       "      <td>NaN</td>\n",
       "      <td>2564</td>\n",
       "      <td>357789.0</td>\n",
       "      <td>800657</td>\n",
       "      <td>1.001712</td>\n",
       "      <td>0.043146</td>\n",
       "      <td>1.000681</td>\n",
       "      <td>0.033210</td>\n",
       "      <td>...</td>\n",
       "      <td>1.0</td>\n",
       "      <td>1.0</td>\n",
       "      <td>1.0</td>\n",
       "      <td>1.0</td>\n",
       "      <td>1.0</td>\n",
       "      <td>48</td>\n",
       "      <td>148.753721</td>\n",
       "      <td>263.413862</td>\n",
       "      <td>0.885456</td>\n",
       "      <td>-0.464723</td>\n",
       "    </tr>\n",
       "    <tr>\n",
       "      <td>4</td>\n",
       "      <td>NaN</td>\n",
       "      <td>NaN</td>\n",
       "      <td>NaN</td>\n",
       "      <td>1663</td>\n",
       "      <td>NaN</td>\n",
       "      <td>62397</td>\n",
       "      <td>1.001712</td>\n",
       "      <td>0.043146</td>\n",
       "      <td>1.000681</td>\n",
       "      <td>0.033210</td>\n",
       "      <td>...</td>\n",
       "      <td>1.0</td>\n",
       "      <td>1.0</td>\n",
       "      <td>1.0</td>\n",
       "      <td>1.0</td>\n",
       "      <td>1.0</td>\n",
       "      <td>48</td>\n",
       "      <td>148.753721</td>\n",
       "      <td>263.413862</td>\n",
       "      <td>0.885456</td>\n",
       "      <td>-0.464723</td>\n",
       "    </tr>\n",
       "    <tr>\n",
       "      <td>...</td>\n",
       "      <td>...</td>\n",
       "      <td>...</td>\n",
       "      <td>...</td>\n",
       "      <td>...</td>\n",
       "      <td>...</td>\n",
       "      <td>...</td>\n",
       "      <td>...</td>\n",
       "      <td>...</td>\n",
       "      <td>...</td>\n",
       "      <td>...</td>\n",
       "      <td>...</td>\n",
       "      <td>...</td>\n",
       "      <td>...</td>\n",
       "      <td>...</td>\n",
       "      <td>...</td>\n",
       "      <td>...</td>\n",
       "      <td>...</td>\n",
       "      <td>...</td>\n",
       "      <td>...</td>\n",
       "      <td>...</td>\n",
       "      <td>...</td>\n",
       "    </tr>\n",
       "    <tr>\n",
       "      <td>995887</td>\n",
       "      <td>NaN</td>\n",
       "      <td>NaN</td>\n",
       "      <td>NaN</td>\n",
       "      <td>2564</td>\n",
       "      <td>122947.0</td>\n",
       "      <td>137785</td>\n",
       "      <td>1.002987</td>\n",
       "      <td>0.055336</td>\n",
       "      <td>1.002928</td>\n",
       "      <td>0.054804</td>\n",
       "      <td>...</td>\n",
       "      <td>1.0</td>\n",
       "      <td>1.0</td>\n",
       "      <td>1.0</td>\n",
       "      <td>1.0</td>\n",
       "      <td>1.0</td>\n",
       "      <td>1</td>\n",
       "      <td>126.419484</td>\n",
       "      <td>195.179737</td>\n",
       "      <td>0.992709</td>\n",
       "      <td>0.120537</td>\n",
       "    </tr>\n",
       "    <tr>\n",
       "      <td>995888</td>\n",
       "      <td>0.0</td>\n",
       "      <td>5.0</td>\n",
       "      <td>5.0</td>\n",
       "      <td>152</td>\n",
       "      <td>122947.0</td>\n",
       "      <td>137785</td>\n",
       "      <td>1.002352</td>\n",
       "      <td>0.048439</td>\n",
       "      <td>1.002352</td>\n",
       "      <td>0.048439</td>\n",
       "      <td>...</td>\n",
       "      <td>1.0</td>\n",
       "      <td>1.0</td>\n",
       "      <td>1.0</td>\n",
       "      <td>1.0</td>\n",
       "      <td>1.0</td>\n",
       "      <td>1</td>\n",
       "      <td>126.419484</td>\n",
       "      <td>195.179737</td>\n",
       "      <td>0.992709</td>\n",
       "      <td>0.120537</td>\n",
       "    </tr>\n",
       "    <tr>\n",
       "      <td>995889</td>\n",
       "      <td>NaN</td>\n",
       "      <td>NaN</td>\n",
       "      <td>NaN</td>\n",
       "      <td>2564</td>\n",
       "      <td>357789.0</td>\n",
       "      <td>800657</td>\n",
       "      <td>1.001712</td>\n",
       "      <td>0.043146</td>\n",
       "      <td>1.000681</td>\n",
       "      <td>0.033210</td>\n",
       "      <td>...</td>\n",
       "      <td>1.0</td>\n",
       "      <td>1.0</td>\n",
       "      <td>1.0</td>\n",
       "      <td>1.0</td>\n",
       "      <td>1.0</td>\n",
       "      <td>1</td>\n",
       "      <td>126.419484</td>\n",
       "      <td>195.179737</td>\n",
       "      <td>0.992709</td>\n",
       "      <td>0.120537</td>\n",
       "    </tr>\n",
       "    <tr>\n",
       "      <td>995890</td>\n",
       "      <td>NaN</td>\n",
       "      <td>NaN</td>\n",
       "      <td>NaN</td>\n",
       "      <td>2564</td>\n",
       "      <td>357789.0</td>\n",
       "      <td>800657</td>\n",
       "      <td>1.001712</td>\n",
       "      <td>0.043146</td>\n",
       "      <td>1.000681</td>\n",
       "      <td>0.033210</td>\n",
       "      <td>...</td>\n",
       "      <td>1.0</td>\n",
       "      <td>1.0</td>\n",
       "      <td>1.0</td>\n",
       "      <td>1.0</td>\n",
       "      <td>1.0</td>\n",
       "      <td>1</td>\n",
       "      <td>126.419484</td>\n",
       "      <td>195.179737</td>\n",
       "      <td>0.992709</td>\n",
       "      <td>0.120537</td>\n",
       "    </tr>\n",
       "    <tr>\n",
       "      <td>995891</td>\n",
       "      <td>NaN</td>\n",
       "      <td>NaN</td>\n",
       "      <td>NaN</td>\n",
       "      <td>1627</td>\n",
       "      <td>122947.0</td>\n",
       "      <td>137785</td>\n",
       "      <td>1.002352</td>\n",
       "      <td>0.048439</td>\n",
       "      <td>1.002352</td>\n",
       "      <td>0.048439</td>\n",
       "      <td>...</td>\n",
       "      <td>1.0</td>\n",
       "      <td>1.0</td>\n",
       "      <td>1.0</td>\n",
       "      <td>1.0</td>\n",
       "      <td>1.0</td>\n",
       "      <td>1</td>\n",
       "      <td>126.419484</td>\n",
       "      <td>195.179737</td>\n",
       "      <td>0.992709</td>\n",
       "      <td>0.120537</td>\n",
       "    </tr>\n",
       "  </tbody>\n",
       "</table>\n",
       "<p>995892 rows × 157 columns</p>\n",
       "</div>"
      ],
      "text/plain": [
       "        D10_diff  D15_diff  D1_diff  DeviceInfo  M4_fq_enc  ProductCD_fq_enc  \\\n",
       "0            NaN       NaN      NaN        2564   122947.0            800657   \n",
       "1            NaN       NaN      NaN        2564   357789.0            800657   \n",
       "2            NaN       NaN      NaN        2564   357789.0            800657   \n",
       "3            NaN       NaN      NaN        2564   357789.0            800657   \n",
       "4            NaN       NaN      NaN        1663        NaN             62397   \n",
       "...          ...       ...      ...         ...        ...               ...   \n",
       "995887       NaN       NaN      NaN        2564   122947.0            137785   \n",
       "995888       0.0       5.0      5.0         152   122947.0            137785   \n",
       "995889       NaN       NaN      NaN        2564   357789.0            800657   \n",
       "995890       NaN       NaN      NaN        2564   357789.0            800657   \n",
       "995891       NaN       NaN      NaN        1627   122947.0            137785   \n",
       "\n",
       "        R_emaildomain_V118_mean  R_emaildomain_V118_std  \\\n",
       "0                      1.001712                0.043146   \n",
       "1                      1.001712                0.043146   \n",
       "2                      1.001712                0.043146   \n",
       "3                      1.001712                0.043146   \n",
       "4                      1.001712                0.043146   \n",
       "...                         ...                     ...   \n",
       "995887                 1.002987                0.055336   \n",
       "995888                 1.002352                0.048439   \n",
       "995889                 1.001712                0.043146   \n",
       "995890                 1.001712                0.043146   \n",
       "995891                 1.002352                0.048439   \n",
       "\n",
       "        R_emaildomain_V119_mean  R_emaildomain_V119_std  ...  \\\n",
       "0                      1.000681                0.033210  ...   \n",
       "1                      1.000681                0.033210  ...   \n",
       "2                      1.000681                0.033210  ...   \n",
       "3                      1.000681                0.033210  ...   \n",
       "4                      1.000681                0.033210  ...   \n",
       "...                         ...                     ...  ...   \n",
       "995887                 1.002928                0.054804  ...   \n",
       "995888                 1.002352                0.048439  ...   \n",
       "995889                 1.000681                0.033210  ...   \n",
       "995890                 1.000681                0.033210  ...   \n",
       "995891                 1.002352                0.048439  ...   \n",
       "\n",
       "        userid_unique_C5  userid_unique_C6  userid_unique_C7  \\\n",
       "0                    1.0               1.0               1.0   \n",
       "1                    1.0               1.0               1.0   \n",
       "2                    1.0               2.0               1.0   \n",
       "3                    1.0               1.0               1.0   \n",
       "4                    1.0               1.0               1.0   \n",
       "...                  ...               ...               ...   \n",
       "995887               1.0               1.0               1.0   \n",
       "995888               1.0               1.0               1.0   \n",
       "995889               1.0               1.0               1.0   \n",
       "995890               1.0               1.0               1.0   \n",
       "995891               1.0               1.0               1.0   \n",
       "\n",
       "        userid_unique_C8  userid_unique_C9  week  week_TransactionAmt_mean  \\\n",
       "0                    1.0               1.0    48                148.753721   \n",
       "1                    1.0               1.0    48                148.753721   \n",
       "2                    1.0               1.0    48                148.753721   \n",
       "3                    1.0               1.0    48                148.753721   \n",
       "4                    1.0               1.0    48                148.753721   \n",
       "...                  ...               ...   ...                       ...   \n",
       "995887               1.0               1.0     1                126.419484   \n",
       "995888               1.0               1.0     1                126.419484   \n",
       "995889               1.0               1.0     1                126.419484   \n",
       "995890               1.0               1.0     1                126.419484   \n",
       "995891               1.0               1.0     1                126.419484   \n",
       "\n",
       "        week_TransactionAmt_std  week_cos  week_sin  \n",
       "0                    263.413862  0.885456 -0.464723  \n",
       "1                    263.413862  0.885456 -0.464723  \n",
       "2                    263.413862  0.885456 -0.464723  \n",
       "3                    263.413862  0.885456 -0.464723  \n",
       "4                    263.413862  0.885456 -0.464723  \n",
       "...                         ...       ...       ...  \n",
       "995887               195.179737  0.992709  0.120537  \n",
       "995888               195.179737  0.992709  0.120537  \n",
       "995889               195.179737  0.992709  0.120537  \n",
       "995890               195.179737  0.992709  0.120537  \n",
       "995891               195.179737  0.992709  0.120537  \n",
       "\n",
       "[995892 rows x 157 columns]"
      ]
     },
     "execution_count": 13,
     "metadata": {},
     "output_type": "execute_result"
    }
   ],
   "source": [
    "full_df"
   ]
  },
  {
   "cell_type": "code",
   "execution_count": 14,
   "metadata": {},
   "outputs": [
    {
     "data": {
      "text/plain": [
       "44"
      ]
     },
     "execution_count": 14,
     "metadata": {},
     "output_type": "execute_result"
    }
   ],
   "source": [
    "del tr, te; gc.collect()"
   ]
  },
  {
   "cell_type": "code",
   "execution_count": 15,
   "metadata": {},
   "outputs": [],
   "source": [
    "# v_shifts = pd.read_parquet('./full_trans_vcols_shift_diff.parquet.gzip')\n",
    "# del v_shifts['userid']"
   ]
  },
  {
   "cell_type": "code",
   "execution_count": 16,
   "metadata": {},
   "outputs": [],
   "source": [
    "features = [c for c in full_df.columns if c not in ['i_am_train', # This is the actual target for adv validation\n",
    "                                               'userid', # An ID\n",
    "                                               'isFraud', # The target for competition\n",
    "                                                    'TransactionID','TransactionDT'\n",
    "                                              ]]\n",
    "\n",
    "folds = StratifiedKFold(n_splits=5, shuffle=True, random_state=1337)"
   ]
  },
  {
   "cell_type": "code",
   "execution_count": 17,
   "metadata": {},
   "outputs": [],
   "source": [
    "lgb_params = {\n",
    "    'task': 'train', \n",
    "    'max_depth': 10, \n",
    "    'boosting_type': 'gbdt',\n",
    "    'objective': 'binary', \n",
    "    #'num_leaves': 3, \n",
    "    'learning_rate': 0.05,\n",
    "    'feature_fraction': 0.50, \n",
    "    'bagging_fraction': 0.81, \n",
    "    'bagging_freq': 1,\n",
    "    'lambda_l1': 3, \n",
    "    'lambda_l2': 3, \n",
    "    'verbose': -99, \n",
    "    'boost_from_average': 'true',\n",
    "    'seed': 99,\n",
    "    'nthreads':16\n",
    "}"
   ]
  },
  {
   "cell_type": "code",
   "execution_count": null,
   "metadata": {},
   "outputs": [
    {
     "name": "stderr",
     "output_type": "stream",
     "text": [
      "  0%|          | 0/153 [00:00<?, ?it/s]"
     ]
    },
    {
     "name": "stdout",
     "output_type": "stream",
     "text": [
      "Training the Model:\n",
      "Fitting to feature D10_diff\n"
     ]
    },
    {
     "name": "stderr",
     "output_type": "stream",
     "text": [
      "  1%|          | 1/153 [00:18<47:45, 18.85s/it]"
     ]
    },
    {
     "name": "stdout",
     "output_type": "stream",
     "text": [
      "Fitting to feature D15_diff\n"
     ]
    },
    {
     "name": "stderr",
     "output_type": "stream",
     "text": [
      "  1%|▏         | 2/153 [00:48<55:17, 21.97s/it]"
     ]
    },
    {
     "name": "stdout",
     "output_type": "stream",
     "text": [
      "Fitting to feature D1_diff\n"
     ]
    },
    {
     "name": "stderr",
     "output_type": "stream",
     "text": [
      "  2%|▏         | 3/153 [01:11<56:22, 22.55s/it]"
     ]
    },
    {
     "name": "stdout",
     "output_type": "stream",
     "text": [
      "Fitting to feature DeviceInfo\n"
     ]
    },
    {
     "name": "stderr",
     "output_type": "stream",
     "text": [
      "  3%|▎         | 4/153 [02:15<1:26:45, 34.94s/it]"
     ]
    },
    {
     "name": "stdout",
     "output_type": "stream",
     "text": [
      "Fitting to feature M4_fq_enc\n"
     ]
    },
    {
     "name": "stderr",
     "output_type": "stream",
     "text": [
      "  3%|▎         | 5/153 [02:33<1:13:04, 29.63s/it]"
     ]
    },
    {
     "name": "stdout",
     "output_type": "stream",
     "text": [
      "Fitting to feature ProductCD_fq_enc\n"
     ]
    },
    {
     "name": "stderr",
     "output_type": "stream",
     "text": [
      "  4%|▍         | 6/153 [02:50<1:03:49, 26.05s/it]"
     ]
    },
    {
     "name": "stdout",
     "output_type": "stream",
     "text": [
      "Fitting to feature R_emaildomain_V118_mean\n"
     ]
    },
    {
     "name": "stderr",
     "output_type": "stream",
     "text": [
      "  5%|▍         | 7/153 [03:10<58:45, 24.15s/it]  "
     ]
    },
    {
     "name": "stdout",
     "output_type": "stream",
     "text": [
      "Fitting to feature R_emaildomain_V118_std\n"
     ]
    },
    {
     "name": "stderr",
     "output_type": "stream",
     "text": [
      "  5%|▌         | 8/153 [03:29<54:22, 22.50s/it]"
     ]
    },
    {
     "name": "stdout",
     "output_type": "stream",
     "text": [
      "Fitting to feature R_emaildomain_V119_mean\n"
     ]
    },
    {
     "name": "stderr",
     "output_type": "stream",
     "text": [
      "  6%|▌         | 9/153 [03:47<50:52, 21.20s/it]"
     ]
    },
    {
     "name": "stdout",
     "output_type": "stream",
     "text": [
      "Fitting to feature R_emaildomain_V119_std\n"
     ]
    },
    {
     "name": "stderr",
     "output_type": "stream",
     "text": [
      "  7%|▋         | 10/153 [04:05<48:23, 20.30s/it]"
     ]
    },
    {
     "name": "stdout",
     "output_type": "stream",
     "text": [
      "Fitting to feature addr1\n"
     ]
    },
    {
     "name": "stderr",
     "output_type": "stream",
     "text": [
      "  7%|▋         | 11/153 [05:09<1:19:08, 33.44s/it]"
     ]
    },
    {
     "name": "stdout",
     "output_type": "stream",
     "text": [
      "Fitting to feature addr1_addr2_new_identity_D10_diff_mean_mean\n"
     ]
    },
    {
     "name": "stderr",
     "output_type": "stream",
     "text": [
      "  8%|▊         | 12/153 [05:45<1:20:24, 34.21s/it]"
     ]
    },
    {
     "name": "stdout",
     "output_type": "stream",
     "text": [
      "Fitting to feature addr1_addr2_new_identity_D10_diff_mean_std\n"
     ]
    },
    {
     "name": "stderr",
     "output_type": "stream",
     "text": [
      "  8%|▊         | 13/153 [06:24<1:23:11, 35.66s/it]"
     ]
    },
    {
     "name": "stdout",
     "output_type": "stream",
     "text": [
      "Fitting to feature addr1_addr2_new_identity_D15_diff_mean_mean\n"
     ]
    },
    {
     "name": "stderr",
     "output_type": "stream",
     "text": [
      "  9%|▉         | 14/153 [07:09<1:28:43, 38.30s/it]"
     ]
    },
    {
     "name": "stdout",
     "output_type": "stream",
     "text": [
      "Fitting to feature addr1_addr2_new_identity_D15_diff_mean_std\n"
     ]
    },
    {
     "name": "stderr",
     "output_type": "stream",
     "text": [
      " 10%|▉         | 15/153 [07:47<1:28:23, 38.43s/it]"
     ]
    },
    {
     "name": "stdout",
     "output_type": "stream",
     "text": [
      "Fitting to feature addr1_addr2_new_identity_D1_diff_mean_mean\n"
     ]
    },
    {
     "name": "stderr",
     "output_type": "stream",
     "text": [
      " 10%|█         | 16/153 [08:39<1:36:31, 42.28s/it]"
     ]
    },
    {
     "name": "stdout",
     "output_type": "stream",
     "text": [
      "Fitting to feature addr1_addr2_new_identity_D1_diff_mean_std\n"
     ]
    },
    {
     "name": "stderr",
     "output_type": "stream",
     "text": [
      " 11%|█         | 17/153 [09:28<1:40:41, 44.42s/it]"
     ]
    },
    {
     "name": "stdout",
     "output_type": "stream",
     "text": [
      "Fitting to feature addr1_addr2_new_identity_M5_mean_mean\n"
     ]
    },
    {
     "name": "stderr",
     "output_type": "stream",
     "text": [
      " 12%|█▏        | 18/153 [09:51<1:25:23, 37.95s/it]"
     ]
    },
    {
     "name": "stdout",
     "output_type": "stream",
     "text": [
      "Fitting to feature addr1_addr2_new_identity_M5_mean_std\n"
     ]
    },
    {
     "name": "stderr",
     "output_type": "stream",
     "text": [
      " 12%|█▏        | 19/153 [10:09<1:11:18, 31.93s/it]"
     ]
    },
    {
     "name": "stdout",
     "output_type": "stream",
     "text": [
      "Fitting to feature addr1_addr2_new_identity_M6_mean_mean\n"
     ]
    },
    {
     "name": "stderr",
     "output_type": "stream",
     "text": [
      " 13%|█▎        | 20/153 [10:29<1:02:55, 28.39s/it]"
     ]
    },
    {
     "name": "stdout",
     "output_type": "stream",
     "text": [
      "Fitting to feature addr1_addr2_new_identity_M6_mean_std\n"
     ]
    },
    {
     "name": "stderr",
     "output_type": "stream",
     "text": [
      " 14%|█▎        | 21/153 [10:49<56:56, 25.89s/it]  "
     ]
    },
    {
     "name": "stdout",
     "output_type": "stream",
     "text": [
      "Fitting to feature addr1_addr2_new_identity_V315_mean_mean\n"
     ]
    },
    {
     "name": "stderr",
     "output_type": "stream",
     "text": [
      " 14%|█▍        | 22/153 [11:39<1:12:14, 33.09s/it]"
     ]
    },
    {
     "name": "stdout",
     "output_type": "stream",
     "text": [
      "Fitting to feature addr1_addr2_new_identity_V315_mean_std\n"
     ]
    },
    {
     "name": "stderr",
     "output_type": "stream",
     "text": [
      " 15%|█▌        | 23/153 [12:26<1:20:42, 37.25s/it]"
     ]
    },
    {
     "name": "stdout",
     "output_type": "stream",
     "text": [
      "Fitting to feature addr1_broad_area\n"
     ]
    },
    {
     "name": "stderr",
     "output_type": "stream",
     "text": [
      " 16%|█▌        | 24/153 [12:41<1:06:05, 30.74s/it]"
     ]
    },
    {
     "name": "stdout",
     "output_type": "stream",
     "text": [
      "Fitting to feature addr_fq_enc\n"
     ]
    },
    {
     "name": "stderr",
     "output_type": "stream",
     "text": [
      " 16%|█▋        | 25/153 [13:21<1:11:12, 33.38s/it]"
     ]
    },
    {
     "name": "stdout",
     "output_type": "stream",
     "text": [
      "Fitting to feature card1_V151_mean\n"
     ]
    },
    {
     "name": "stderr",
     "output_type": "stream",
     "text": [
      " 17%|█▋        | 26/153 [13:56<1:11:53, 33.97s/it]"
     ]
    },
    {
     "name": "stdout",
     "output_type": "stream",
     "text": [
      "Fitting to feature card1_V151_std\n"
     ]
    },
    {
     "name": "stderr",
     "output_type": "stream",
     "text": [
      " 18%|█▊        | 27/153 [14:27<1:09:31, 33.11s/it]"
     ]
    },
    {
     "name": "stdout",
     "output_type": "stream",
     "text": [
      "Fitting to feature card1_V20_mean\n"
     ]
    },
    {
     "name": "stderr",
     "output_type": "stream",
     "text": [
      " 18%|█▊        | 28/153 [15:10<1:15:10, 36.09s/it]"
     ]
    },
    {
     "name": "stdout",
     "output_type": "stream",
     "text": [
      "Fitting to feature card1_V20_std\n"
     ]
    },
    {
     "name": "stderr",
     "output_type": "stream",
     "text": [
      " 19%|█▉        | 29/153 [15:59<1:22:15, 39.80s/it]"
     ]
    },
    {
     "name": "stdout",
     "output_type": "stream",
     "text": [
      "Fitting to feature card1_V67_mean\n"
     ]
    },
    {
     "name": "stderr",
     "output_type": "stream",
     "text": [
      " 20%|█▉        | 30/153 [16:43<1:24:18, 41.13s/it]"
     ]
    },
    {
     "name": "stdout",
     "output_type": "stream",
     "text": [
      "Fitting to feature card1_V67_std\n"
     ]
    },
    {
     "name": "stderr",
     "output_type": "stream",
     "text": [
      " 20%|██        | 31/153 [17:25<1:23:59, 41.30s/it]"
     ]
    },
    {
     "name": "stdout",
     "output_type": "stream",
     "text": [
      "Fitting to feature card4_fq_enc\n"
     ]
    },
    {
     "name": "stderr",
     "output_type": "stream",
     "text": [
      " 21%|██        | 32/153 [17:42<1:08:37, 34.03s/it]"
     ]
    },
    {
     "name": "stdout",
     "output_type": "stream",
     "text": [
      "Fitting to feature card6_fq_enc\n"
     ]
    },
    {
     "name": "stderr",
     "output_type": "stream",
     "text": [
      " 22%|██▏       | 33/153 [18:09<1:04:05, 32.05s/it]"
     ]
    },
    {
     "name": "stdout",
     "output_type": "stream",
     "text": [
      "Fitting to feature hour\n"
     ]
    },
    {
     "name": "stderr",
     "output_type": "stream",
     "text": [
      " 22%|██▏       | 34/153 [18:24<53:13, 26.84s/it]  "
     ]
    },
    {
     "name": "stdout",
     "output_type": "stream",
     "text": [
      "Fitting to feature hour_TransactionAmt_mean\n"
     ]
    },
    {
     "name": "stderr",
     "output_type": "stream",
     "text": [
      " 23%|██▎       | 35/153 [18:38<45:14, 23.00s/it]"
     ]
    },
    {
     "name": "stdout",
     "output_type": "stream",
     "text": [
      "Fitting to feature hour_TransactionAmt_std\n"
     ]
    },
    {
     "name": "stderr",
     "output_type": "stream",
     "text": [
      " 24%|██▎       | 36/153 [18:53<40:12, 20.62s/it]"
     ]
    },
    {
     "name": "stdout",
     "output_type": "stream",
     "text": [
      "Fitting to feature hour_V116_mean\n"
     ]
    },
    {
     "name": "stderr",
     "output_type": "stream",
     "text": [
      " 24%|██▍       | 37/153 [19:08<36:26, 18.85s/it]"
     ]
    },
    {
     "name": "stdout",
     "output_type": "stream",
     "text": [
      "Fitting to feature hour_V116_std\n"
     ]
    },
    {
     "name": "stderr",
     "output_type": "stream",
     "text": [
      " 25%|██▍       | 38/153 [19:23<33:52, 17.68s/it]"
     ]
    },
    {
     "name": "stdout",
     "output_type": "stream",
     "text": [
      "Fitting to feature hour_sin\n"
     ]
    },
    {
     "name": "stderr",
     "output_type": "stream",
     "text": [
      " 25%|██▌       | 39/153 [19:38<32:10, 16.93s/it]"
     ]
    },
    {
     "name": "stdout",
     "output_type": "stream",
     "text": [
      "Fitting to feature id_19\n"
     ]
    },
    {
     "name": "stderr",
     "output_type": "stream",
     "text": [
      " 26%|██▌       | 40/153 [20:35<54:31, 28.95s/it]"
     ]
    },
    {
     "name": "stdout",
     "output_type": "stream",
     "text": [
      "Fitting to feature id_20\n"
     ]
    },
    {
     "name": "stderr",
     "output_type": "stream",
     "text": [
      " 27%|██▋       | 41/153 [21:14<59:28, 31.86s/it]"
     ]
    },
    {
     "name": "stdout",
     "output_type": "stream",
     "text": [
      "Fitting to feature life_of_customer\n"
     ]
    },
    {
     "name": "stderr",
     "output_type": "stream",
     "text": [
      " 27%|██▋       | 42/153 [21:52<1:02:33, 33.81s/it]"
     ]
    },
    {
     "name": "stdout",
     "output_type": "stream",
     "text": [
      "Fitting to feature maxDT\n"
     ]
    },
    {
     "name": "stderr",
     "output_type": "stream",
     "text": [
      " 28%|██▊       | 43/153 [22:47<1:13:55, 40.32s/it]"
     ]
    },
    {
     "name": "stdout",
     "output_type": "stream",
     "text": [
      "Fitting to feature month\n"
     ]
    },
    {
     "name": "stderr",
     "output_type": "stream",
     "text": [
      " 29%|██▉       | 44/153 [23:27<1:13:02, 40.21s/it]"
     ]
    },
    {
     "name": "stdout",
     "output_type": "stream",
     "text": [
      "Fitting to feature mxC13\n"
     ]
    },
    {
     "name": "stderr",
     "output_type": "stream",
     "text": [
      " 29%|██▉       | 45/153 [24:11<1:14:09, 41.20s/it]"
     ]
    },
    {
     "name": "stdout",
     "output_type": "stream",
     "text": [
      "Fitting to feature new_identity_D10_diff_mean\n"
     ]
    },
    {
     "name": "stderr",
     "output_type": "stream",
     "text": [
      " 30%|███       | 46/153 [24:48<1:11:17, 39.98s/it]"
     ]
    },
    {
     "name": "stdout",
     "output_type": "stream",
     "text": [
      "Fitting to feature new_identity_D15_diff_mean\n"
     ]
    },
    {
     "name": "stderr",
     "output_type": "stream",
     "text": [
      " 31%|███       | 47/153 [25:21<1:06:45, 37.78s/it]"
     ]
    },
    {
     "name": "stdout",
     "output_type": "stream",
     "text": [
      "Fitting to feature new_identity_D1_diff_mean\n"
     ]
    },
    {
     "name": "stderr",
     "output_type": "stream",
     "text": [
      " 31%|███▏      | 48/153 [25:46<59:33, 34.03s/it]  "
     ]
    },
    {
     "name": "stdout",
     "output_type": "stream",
     "text": [
      "Fitting to feature new_identity_D3_mean\n"
     ]
    },
    {
     "name": "stderr",
     "output_type": "stream",
     "text": [
      " 32%|███▏      | 49/153 [26:18<57:51, 33.38s/it]"
     ]
    },
    {
     "name": "stdout",
     "output_type": "stream",
     "text": [
      "Fitting to feature new_identity_M5_mean\n"
     ]
    },
    {
     "name": "stderr",
     "output_type": "stream",
     "text": [
      " 33%|███▎      | 50/153 [27:00<1:01:51, 36.04s/it]"
     ]
    },
    {
     "name": "stdout",
     "output_type": "stream",
     "text": [
      "Fitting to feature new_identity_M6_mean\n"
     ]
    },
    {
     "name": "stderr",
     "output_type": "stream",
     "text": [
      " 33%|███▎      | 51/153 [27:55<1:11:07, 41.84s/it]"
     ]
    },
    {
     "name": "stdout",
     "output_type": "stream",
     "text": [
      "Fitting to feature new_identity_ProductCD_TransactionAmt_mean\n"
     ]
    },
    {
     "name": "stderr",
     "output_type": "stream",
     "text": [
      " 34%|███▍      | 52/153 [28:34<1:08:36, 40.76s/it]"
     ]
    },
    {
     "name": "stdout",
     "output_type": "stream",
     "text": [
      "Fitting to feature new_identity_V315_mean\n"
     ]
    },
    {
     "name": "stderr",
     "output_type": "stream",
     "text": [
      " 35%|███▍      | 53/153 [29:05<1:03:05, 37.86s/it]"
     ]
    },
    {
     "name": "stdout",
     "output_type": "stream",
     "text": [
      "Fitting to feature uid3_V67_mean\n"
     ]
    },
    {
     "name": "stderr",
     "output_type": "stream",
     "text": [
      " 35%|███▌      | 54/153 [29:47<1:04:41, 39.21s/it]"
     ]
    },
    {
     "name": "stdout",
     "output_type": "stream",
     "text": [
      "Fitting to feature uid3_V67_std\n"
     ]
    },
    {
     "name": "stderr",
     "output_type": "stream",
     "text": [
      " 36%|███▌      | 55/153 [30:28<1:05:02, 39.82s/it]"
     ]
    },
    {
     "name": "stdout",
     "output_type": "stream",
     "text": [
      "Fitting to feature uid3_V83_mean\n"
     ]
    },
    {
     "name": "stderr",
     "output_type": "stream",
     "text": [
      " 37%|███▋      | 56/153 [31:08<1:04:30, 39.90s/it]"
     ]
    },
    {
     "name": "stdout",
     "output_type": "stream",
     "text": [
      "Fitting to feature uid3_V83_std\n"
     ]
    },
    {
     "name": "stderr",
     "output_type": "stream",
     "text": [
      " 37%|███▋      | 57/153 [31:40<59:59, 37.50s/it]  "
     ]
    },
    {
     "name": "stdout",
     "output_type": "stream",
     "text": [
      "Fitting to feature uid6_C11_mean\n"
     ]
    },
    {
     "name": "stderr",
     "output_type": "stream",
     "text": [
      " 38%|███▊      | 58/153 [32:16<58:20, 36.84s/it]"
     ]
    },
    {
     "name": "stdout",
     "output_type": "stream",
     "text": [
      "Fitting to feature uid6_C11_std\n"
     ]
    },
    {
     "name": "stderr",
     "output_type": "stream",
     "text": [
      " 39%|███▊      | 59/153 [32:46<54:37, 34.87s/it]"
     ]
    },
    {
     "name": "stdout",
     "output_type": "stream",
     "text": [
      "Fitting to feature uid6_C1_mean\n"
     ]
    },
    {
     "name": "stderr",
     "output_type": "stream",
     "text": [
      " 39%|███▉      | 60/153 [33:18<52:34, 33.92s/it]"
     ]
    },
    {
     "name": "stdout",
     "output_type": "stream",
     "text": [
      "Fitting to feature uid6_C1_std\n"
     ]
    },
    {
     "name": "stderr",
     "output_type": "stream",
     "text": [
      " 40%|███▉      | 61/153 [33:52<52:06, 33.98s/it]"
     ]
    },
    {
     "name": "stdout",
     "output_type": "stream",
     "text": [
      "Fitting to feature uid6_D4_mean\n"
     ]
    },
    {
     "name": "stderr",
     "output_type": "stream",
     "text": [
      " 41%|████      | 62/153 [34:26<51:29, 33.95s/it]"
     ]
    },
    {
     "name": "stdout",
     "output_type": "stream",
     "text": [
      "Fitting to feature uid6_D4_std\n"
     ]
    },
    {
     "name": "stderr",
     "output_type": "stream",
     "text": [
      " 41%|████      | 63/153 [35:04<52:53, 35.27s/it]"
     ]
    },
    {
     "name": "stdout",
     "output_type": "stream",
     "text": [
      "Fitting to feature uid6_M5_mean\n"
     ]
    },
    {
     "name": "stderr",
     "output_type": "stream",
     "text": [
      " 42%|████▏     | 64/153 [35:52<57:59, 39.10s/it]"
     ]
    },
    {
     "name": "stdout",
     "output_type": "stream",
     "text": [
      "Fitting to feature uid6_M5_std\n"
     ]
    },
    {
     "name": "stderr",
     "output_type": "stream",
     "text": [
      " 42%|████▏     | 65/153 [37:16<1:16:55, 52.44s/it]"
     ]
    },
    {
     "name": "stdout",
     "output_type": "stream",
     "text": [
      "Fitting to feature uid6_M6_mean\n"
     ]
    },
    {
     "name": "stderr",
     "output_type": "stream",
     "text": [
      " 43%|████▎     | 66/153 [38:44<1:31:54, 63.38s/it]"
     ]
    },
    {
     "name": "stdout",
     "output_type": "stream",
     "text": [
      "Fitting to feature uid6_M6_std\n"
     ]
    },
    {
     "name": "stderr",
     "output_type": "stream",
     "text": [
      " 44%|████▍     | 67/153 [39:55<1:34:00, 65.59s/it]"
     ]
    },
    {
     "name": "stdout",
     "output_type": "stream",
     "text": [
      "Fitting to feature uid6_TransactionAmt_mean\n"
     ]
    },
    {
     "name": "stderr",
     "output_type": "stream",
     "text": [
      " 44%|████▍     | 68/153 [41:29<1:44:45, 73.95s/it]"
     ]
    },
    {
     "name": "stdout",
     "output_type": "stream",
     "text": [
      "Fitting to feature uid6_TransactionAmt_std\n"
     ]
    },
    {
     "name": "stderr",
     "output_type": "stream",
     "text": [
      " 45%|████▌     | 69/153 [42:58<1:49:57, 78.54s/it]"
     ]
    },
    {
     "name": "stdout",
     "output_type": "stream",
     "text": [
      "Fitting to feature uid6_V281_mean\n"
     ]
    },
    {
     "name": "stderr",
     "output_type": "stream",
     "text": [
      " 46%|████▌     | 70/153 [44:33<1:55:21, 83.39s/it]"
     ]
    },
    {
     "name": "stdout",
     "output_type": "stream",
     "text": [
      "Fitting to feature uid6_V281_std\n"
     ]
    },
    {
     "name": "stderr",
     "output_type": "stream",
     "text": [
      " 46%|████▋     | 71/153 [46:16<2:02:16, 89.48s/it]"
     ]
    },
    {
     "name": "stdout",
     "output_type": "stream",
     "text": [
      "Fitting to feature uid6_V320_mean\n"
     ]
    },
    {
     "name": "stderr",
     "output_type": "stream",
     "text": [
      " 47%|████▋     | 72/153 [47:43<1:59:41, 88.66s/it]"
     ]
    },
    {
     "name": "stdout",
     "output_type": "stream",
     "text": [
      "Fitting to feature uid6_V320_std\n"
     ]
    },
    {
     "name": "stderr",
     "output_type": "stream",
     "text": [
      " 48%|████▊     | 73/153 [49:26<2:03:47, 92.85s/it]"
     ]
    },
    {
     "name": "stdout",
     "output_type": "stream",
     "text": [
      "Fitting to feature uid6_V54_mean\n"
     ]
    },
    {
     "name": "stderr",
     "output_type": "stream",
     "text": [
      " 48%|████▊     | 74/153 [50:51<1:59:26, 90.72s/it]"
     ]
    },
    {
     "name": "stdout",
     "output_type": "stream",
     "text": [
      "Fitting to feature uid6_V54_std\n"
     ]
    },
    {
     "name": "stderr",
     "output_type": "stream",
     "text": [
      " 49%|████▉     | 75/153 [52:13<1:54:14, 87.88s/it]"
     ]
    },
    {
     "name": "stdout",
     "output_type": "stream",
     "text": [
      "Fitting to feature uid6_V67_mean\n"
     ]
    },
    {
     "name": "stderr",
     "output_type": "stream",
     "text": [
      " 50%|████▉     | 76/153 [53:55<1:58:20, 92.22s/it]"
     ]
    },
    {
     "name": "stdout",
     "output_type": "stream",
     "text": [
      "Fitting to feature uid6_V67_std\n"
     ]
    },
    {
     "name": "stderr",
     "output_type": "stream",
     "text": [
      " 51%|█████     | 78/153 [57:16<2:00:04, 96.06s/it]"
     ]
    },
    {
     "name": "stdout",
     "output_type": "stream",
     "text": [
      "Fitting to feature userid_max_C1\n"
     ]
    },
    {
     "name": "stderr",
     "output_type": "stream",
     "text": [
      " 52%|█████▏    | 79/153 [59:06<2:03:28, 100.12s/it]"
     ]
    },
    {
     "name": "stdout",
     "output_type": "stream",
     "text": [
      "Fitting to feature userid_max_C10\n"
     ]
    },
    {
     "name": "stderr",
     "output_type": "stream",
     "text": [
      " 52%|█████▏    | 80/153 [1:01:41<2:22:02, 116.74s/it]"
     ]
    },
    {
     "name": "stdout",
     "output_type": "stream",
     "text": [
      "Fitting to feature userid_max_C11\n"
     ]
    },
    {
     "name": "stderr",
     "output_type": "stream",
     "text": [
      " 53%|█████▎    | 81/153 [1:03:54<2:25:46, 121.48s/it]"
     ]
    },
    {
     "name": "stdout",
     "output_type": "stream",
     "text": [
      "Fitting to feature userid_max_C12\n"
     ]
    },
    {
     "name": "stderr",
     "output_type": "stream",
     "text": [
      " 54%|█████▎    | 82/153 [1:06:17<2:31:20, 127.89s/it]"
     ]
    },
    {
     "name": "stdout",
     "output_type": "stream",
     "text": [
      "Fitting to feature userid_max_C13\n"
     ]
    },
    {
     "name": "stderr",
     "output_type": "stream",
     "text": [
      " 54%|█████▍    | 83/153 [1:08:12<2:24:49, 124.14s/it]"
     ]
    },
    {
     "name": "stdout",
     "output_type": "stream",
     "text": [
      "Fitting to feature userid_max_C14\n"
     ]
    },
    {
     "name": "stderr",
     "output_type": "stream",
     "text": [
      " 55%|█████▍    | 84/153 [1:10:09<2:20:27, 122.13s/it]"
     ]
    },
    {
     "name": "stdout",
     "output_type": "stream",
     "text": [
      "Fitting to feature userid_max_C2\n"
     ]
    },
    {
     "name": "stderr",
     "output_type": "stream",
     "text": [
      " 56%|█████▌    | 85/153 [1:12:02<2:15:02, 119.15s/it]"
     ]
    },
    {
     "name": "stdout",
     "output_type": "stream",
     "text": [
      "Fitting to feature userid_max_C3\n"
     ]
    },
    {
     "name": "stderr",
     "output_type": "stream",
     "text": [
      " 56%|█████▌    | 86/153 [1:12:46<1:47:57, 96.68s/it] "
     ]
    },
    {
     "name": "stdout",
     "output_type": "stream",
     "text": [
      "Fitting to feature userid_max_C4\n"
     ]
    },
    {
     "name": "stderr",
     "output_type": "stream",
     "text": [
      " 57%|█████▋    | 87/153 [1:15:08<2:01:17, 110.26s/it]"
     ]
    },
    {
     "name": "stdout",
     "output_type": "stream",
     "text": [
      "Fitting to feature userid_max_C5\n"
     ]
    },
    {
     "name": "stderr",
     "output_type": "stream",
     "text": [
      " 58%|█████▊    | 88/153 [1:16:37<1:52:32, 103.89s/it]"
     ]
    },
    {
     "name": "stdout",
     "output_type": "stream",
     "text": [
      "Fitting to feature userid_max_C6\n"
     ]
    },
    {
     "name": "stderr",
     "output_type": "stream",
     "text": [
      " 58%|█████▊    | 89/153 [1:18:32<1:54:17, 107.15s/it]"
     ]
    },
    {
     "name": "stdout",
     "output_type": "stream",
     "text": [
      "Fitting to feature userid_max_C7\n"
     ]
    },
    {
     "name": "stderr",
     "output_type": "stream",
     "text": [
      " 59%|█████▉    | 90/153 [1:21:24<2:13:05, 126.76s/it]"
     ]
    },
    {
     "name": "stdout",
     "output_type": "stream",
     "text": [
      "Fitting to feature userid_max_C8\n"
     ]
    },
    {
     "name": "stderr",
     "output_type": "stream",
     "text": [
      " 59%|█████▉    | 91/153 [1:23:32<2:11:25, 127.19s/it]"
     ]
    },
    {
     "name": "stdout",
     "output_type": "stream",
     "text": [
      "Fitting to feature userid_max_C9\n"
     ]
    },
    {
     "name": "stderr",
     "output_type": "stream",
     "text": [
      " 60%|██████    | 92/153 [1:25:21<2:03:40, 121.64s/it]"
     ]
    },
    {
     "name": "stdout",
     "output_type": "stream",
     "text": [
      "Fitting to feature userid_max_minus_min_C1\n"
     ]
    },
    {
     "name": "stderr",
     "output_type": "stream",
     "text": [
      " 61%|██████    | 93/153 [1:26:52<1:52:32, 112.55s/it]"
     ]
    },
    {
     "name": "stdout",
     "output_type": "stream",
     "text": [
      "Fitting to feature userid_max_minus_min_C10\n"
     ]
    },
    {
     "name": "stderr",
     "output_type": "stream",
     "text": [
      " 61%|██████▏   | 94/153 [1:27:36<1:30:17, 91.82s/it] "
     ]
    },
    {
     "name": "stdout",
     "output_type": "stream",
     "text": [
      "Fitting to feature userid_max_minus_min_C11\n"
     ]
    },
    {
     "name": "stderr",
     "output_type": "stream",
     "text": [
      " 62%|██████▏   | 95/153 [1:28:56<1:25:15, 88.20s/it]"
     ]
    },
    {
     "name": "stdout",
     "output_type": "stream",
     "text": [
      "Fitting to feature userid_max_minus_min_C12\n"
     ]
    },
    {
     "name": "stderr",
     "output_type": "stream",
     "text": [
      " 63%|██████▎   | 96/153 [1:30:34<1:26:41, 91.25s/it]"
     ]
    },
    {
     "name": "stdout",
     "output_type": "stream",
     "text": [
      "Fitting to feature userid_max_minus_min_C13\n"
     ]
    },
    {
     "name": "stderr",
     "output_type": "stream",
     "text": [
      " 63%|██████▎   | 97/153 [1:32:42<1:35:37, 102.45s/it]"
     ]
    },
    {
     "name": "stdout",
     "output_type": "stream",
     "text": [
      "Fitting to feature userid_max_minus_min_C14\n"
     ]
    },
    {
     "name": "stderr",
     "output_type": "stream",
     "text": [
      " 64%|██████▍   | 98/153 [1:33:56<1:26:03, 93.88s/it] "
     ]
    },
    {
     "name": "stdout",
     "output_type": "stream",
     "text": [
      "Fitting to feature userid_max_minus_min_C2\n"
     ]
    },
    {
     "name": "stderr",
     "output_type": "stream",
     "text": [
      " 65%|██████▍   | 99/153 [1:35:34<1:25:30, 95.01s/it]"
     ]
    },
    {
     "name": "stdout",
     "output_type": "stream",
     "text": [
      "Fitting to feature userid_max_minus_min_C3\n"
     ]
    },
    {
     "name": "stderr",
     "output_type": "stream",
     "text": [
      " 65%|██████▌   | 100/153 [1:35:58<1:04:59, 73.57s/it]"
     ]
    },
    {
     "name": "stdout",
     "output_type": "stream",
     "text": [
      "Fitting to feature userid_max_minus_min_C4\n"
     ]
    },
    {
     "name": "stderr",
     "output_type": "stream",
     "text": [
      " 66%|██████▌   | 101/153 [1:37:14<1:04:35, 74.53s/it]"
     ]
    },
    {
     "name": "stdout",
     "output_type": "stream",
     "text": [
      "Fitting to feature userid_max_minus_min_C5\n"
     ]
    },
    {
     "name": "stderr",
     "output_type": "stream",
     "text": [
      " 67%|██████▋   | 102/153 [1:39:26<1:18:00, 91.78s/it]"
     ]
    },
    {
     "name": "stdout",
     "output_type": "stream",
     "text": [
      "Fitting to feature userid_max_minus_min_C6\n"
     ]
    },
    {
     "name": "stderr",
     "output_type": "stream",
     "text": [
      " 67%|██████▋   | 103/153 [1:41:20<1:21:55, 98.30s/it]"
     ]
    },
    {
     "name": "stdout",
     "output_type": "stream",
     "text": [
      "Fitting to feature userid_max_minus_min_C7\n"
     ]
    },
    {
     "name": "stderr",
     "output_type": "stream",
     "text": [
      " 68%|██████▊   | 104/153 [1:42:28<1:12:47, 89.14s/it]"
     ]
    },
    {
     "name": "stdout",
     "output_type": "stream",
     "text": [
      "Fitting to feature userid_max_minus_min_C8\n"
     ]
    },
    {
     "name": "stderr",
     "output_type": "stream",
     "text": [
      " 69%|██████▊   | 105/153 [1:43:36<1:06:25, 83.03s/it]"
     ]
    },
    {
     "name": "stdout",
     "output_type": "stream",
     "text": [
      "Fitting to feature userid_max_minus_min_C9\n"
     ]
    },
    {
     "name": "stderr",
     "output_type": "stream",
     "text": [
      " 69%|██████▉   | 106/153 [1:45:25<1:10:58, 90.61s/it]"
     ]
    },
    {
     "name": "stdout",
     "output_type": "stream",
     "text": [
      "Fitting to feature userid_mean_C1\n"
     ]
    },
    {
     "name": "stderr",
     "output_type": "stream",
     "text": [
      " 70%|██████▉   | 107/153 [1:46:54<1:09:10, 90.23s/it]"
     ]
    },
    {
     "name": "stdout",
     "output_type": "stream",
     "text": [
      "Fitting to feature userid_mean_C10\n"
     ]
    },
    {
     "name": "stderr",
     "output_type": "stream",
     "text": [
      " 71%|███████   | 108/153 [1:49:10<1:17:55, 103.89s/it]"
     ]
    },
    {
     "name": "stdout",
     "output_type": "stream",
     "text": [
      "Fitting to feature userid_mean_C11\n"
     ]
    },
    {
     "name": "stderr",
     "output_type": "stream",
     "text": [
      " 71%|███████   | 109/153 [1:50:47<1:14:43, 101.89s/it]"
     ]
    },
    {
     "name": "stdout",
     "output_type": "stream",
     "text": [
      "Fitting to feature userid_mean_C12\n"
     ]
    },
    {
     "name": "stderr",
     "output_type": "stream",
     "text": [
      " 72%|███████▏  | 110/153 [1:53:02<1:20:13, 111.93s/it]"
     ]
    },
    {
     "name": "stdout",
     "output_type": "stream",
     "text": [
      "Fitting to feature userid_mean_C13\n"
     ]
    },
    {
     "name": "stderr",
     "output_type": "stream",
     "text": [
      " 73%|███████▎  | 111/153 [1:54:32<1:13:45, 105.37s/it]"
     ]
    },
    {
     "name": "stdout",
     "output_type": "stream",
     "text": [
      "Fitting to feature userid_mean_C14\n"
     ]
    },
    {
     "name": "stderr",
     "output_type": "stream",
     "text": [
      " 73%|███████▎  | 112/153 [1:56:13<1:10:59, 103.89s/it]"
     ]
    },
    {
     "name": "stdout",
     "output_type": "stream",
     "text": [
      "Fitting to feature userid_mean_C2\n"
     ]
    },
    {
     "name": "stderr",
     "output_type": "stream",
     "text": [
      " 74%|███████▍  | 113/153 [1:57:39<1:05:46, 98.66s/it] "
     ]
    },
    {
     "name": "stdout",
     "output_type": "stream",
     "text": [
      "Fitting to feature userid_mean_C3\n"
     ]
    },
    {
     "name": "stderr",
     "output_type": "stream",
     "text": [
      " 75%|███████▍  | 114/153 [1:58:55<59:37, 91.74s/it]  "
     ]
    },
    {
     "name": "stdout",
     "output_type": "stream",
     "text": [
      "Fitting to feature userid_mean_C4\n"
     ]
    },
    {
     "name": "stderr",
     "output_type": "stream",
     "text": [
      " 75%|███████▌  | 115/153 [2:01:20<1:08:10, 107.65s/it]"
     ]
    },
    {
     "name": "stdout",
     "output_type": "stream",
     "text": [
      "Fitting to feature userid_mean_C5\n"
     ]
    },
    {
     "name": "stderr",
     "output_type": "stream",
     "text": [
      " 76%|███████▌  | 116/153 [2:02:52<1:03:35, 103.13s/it]"
     ]
    },
    {
     "name": "stdout",
     "output_type": "stream",
     "text": [
      "Fitting to feature userid_mean_C6\n"
     ]
    },
    {
     "name": "stderr",
     "output_type": "stream",
     "text": [
      " 76%|███████▋  | 117/153 [2:04:10<57:14, 95.40s/it]   "
     ]
    },
    {
     "name": "stdout",
     "output_type": "stream",
     "text": [
      "Fitting to feature userid_mean_C7\n"
     ]
    },
    {
     "name": "stderr",
     "output_type": "stream",
     "text": [
      " 77%|███████▋  | 118/153 [2:06:25<1:02:36, 107.32s/it]"
     ]
    },
    {
     "name": "stdout",
     "output_type": "stream",
     "text": [
      "Fitting to feature userid_mean_C8\n"
     ]
    }
   ],
   "source": [
    "print('Training the Model:')\n",
    "list_of_dicts = []\n",
    "for fi, f in enumerate(tqdm(features)):\n",
    "    dict_ = {}\n",
    "    oof_preds = np.zeros(full_df.shape[0])\n",
    "    print('Fitting to feature',f)\n",
    "    \n",
    "    for fold_, (trn_idx, val_idx) in enumerate(folds.split(full_df.values, full_df['i_am_train'].values)):\n",
    "        #print(\"Fold idx:{}\".format(fold_ + 1))\n",
    "\n",
    "        X_train, y_train = pd.DataFrame(full_df.iloc[trn_idx][f]), full_df['i_am_train'].iloc[trn_idx].values\n",
    "        X_valid, y_valid = pd.DataFrame(full_df.iloc[val_idx][f]), full_df['i_am_train'].iloc[val_idx].values\n",
    "\n",
    "        trn_data = lgb.Dataset(X_train, label=y_train)\n",
    "        val_data = lgb.Dataset(X_valid, label=y_valid)\n",
    "\n",
    "        clf = lgb.train(lgb_params, trn_data, 800, valid_sets = [trn_data, val_data], \n",
    "                        verbose_eval=0, early_stopping_rounds = 100)\n",
    "\n",
    "        oof_preds[val_idx] = clf.predict(X_valid, num_iteration=clf.best_iteration)\n",
    "\n",
    "    #print(\"CV score VAL: {:<8.5f} | using feature: {} | best iter: {}\\n\".format(\n",
    "    #    roc_auc_score(full_df['i_am_train'], oof_preds), f, clf.best_iteration))\n",
    "    dict_['feature'] = f\n",
    "    dict_['cv'] = roc_auc_score(full_df['i_am_train'], oof_preds)\n",
    "    dict_['best_iter'] = clf.best_iteration\n",
    "    \n",
    "    list_of_dicts.append(dict_)"
   ]
  },
  {
   "cell_type": "code",
   "execution_count": null,
   "metadata": {},
   "outputs": [],
   "source": [
    "study = pd.DataFrame(list_of_dicts)"
   ]
  },
  {
   "cell_type": "code",
   "execution_count": null,
   "metadata": {},
   "outputs": [],
   "source": [
    "study.sort_values('cv') # (in a new cell)"
   ]
  },
  {
   "cell_type": "code",
   "execution_count": null,
   "metadata": {},
   "outputs": [],
   "source": [
    "study.loc[study['cv']>=0.60, 'feature'].values # (in a new cell)"
   ]
  },
  {
   "cell_type": "code",
   "execution_count": null,
   "metadata": {},
   "outputs": [],
   "source": [
    "\n",
    "# in a new cell:\n",
    "# My recommendation is to not use the following columns:\n",
    "bad_cols = study.loc[study['cv']>=0.60, 'feature'].values\n",
    "for col in bad_cols:\n",
    "    print('\\nLooking at column',col)\n",
    "    print('Training mean is',full_df.loc[full_df['i_am_train']==1,col].mean(),'while Testing mean is',full_df.loc[full_df['i_am_train']==0,col].mean())\n",
    "    print('Training median is',full_df.loc[full_df['i_am_train']==1,col].median(),'while Testing median is',full_df.loc[full_df['i_am_train']==0,col].median())\n",
    "    print('Training std is',full_df.loc[full_df['i_am_train']==1,col].std(),'while Testing std is',full_df.loc[full_df['i_am_train']==0,col].std())"
   ]
  },
  {
   "cell_type": "code",
   "execution_count": null,
   "metadata": {},
   "outputs": [],
   "source": [
    "study.to_csv('fe012_adv_600.csv')"
   ]
  },
  {
   "cell_type": "code",
   "execution_count": null,
   "metadata": {},
   "outputs": [],
   "source": []
  }
 ],
 "metadata": {
  "kernelspec": {
   "display_name": "Python 3",
   "language": "python",
   "name": "python3"
  },
  "language_info": {
   "codemirror_mode": {
    "name": "ipython",
    "version": 3
   },
   "file_extension": ".py",
   "mimetype": "text/x-python",
   "name": "python",
   "nbconvert_exporter": "python",
   "pygments_lexer": "ipython3",
   "version": "3.7.4"
  }
 },
 "nbformat": 4,
 "nbformat_minor": 4
}
