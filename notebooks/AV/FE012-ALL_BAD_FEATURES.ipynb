{
 "cells": [
  {
   "cell_type": "code",
   "execution_count": 1,
   "metadata": {},
   "outputs": [],
   "source": [
    "import pandas as pd\n",
    "\n",
    "adv100 = pd.read_csv('fe012_adv_100_200.csv')\n",
    "adv200 = pd.read_csv('fe012_adv_200_300.csv')\n",
    "adv300 = pd.read_csv('fe012_adv_300_400.csv')\n",
    "\n",
    "adv1 = ['D10_DT_D_std_score', 'D10_intercept', 'D15_DT_D_std_score',\n",
    "      'D15_intercept', 'D1_intercept', 'D8_DT_D_std_score',\n",
    "      'D8_DT_W_std_score', 'Mean_TransAmt_Day', 'Sum_TransAmt_Day',\n",
    "      'TranAmt_div_Mean_D10_DOY_productCD', 'Trans_Count_Day',\n",
    "      'TransactionAmt_DT_D_min_max', 'addr2_div_Mean_D1_DOY',\n",
    "      'bank_type_DT_D', 'bank_type_DT_M_month_day_dist_best',\n",
    "      'card3_DT_W_week_day_dist', 'card3_div_Mean_D10_DOY',\n",
    "      'card3_div_Mean_D10_DOY_productCD', 'card3_div_Mean_D1_DOY',\n",
    "      'card3_div_Mean_D1_DOY_productCD', 'card4_div_Mean_D1_DOY',\n",
    "      'card4_div_Mean_D1_DOY_productCD',\n",
    "      'card5_DT_M_month_day_dist_best', 'card5_DT_W_week_day_dist',\n",
    "      'card5_div_Mean_D1_DOY', 'card6_div_Mean_D10_DOY',\n",
    "      'card6_div_Mean_D1_DOY', 'card6_div_Mean_D1_DOY_productCD',\n",
    "      'minDT', 'product_type_DT_D', 'product_type_DT_M',\n",
    "      'product_type_DT_W', 'uid_DT_D', 'uid_DT_M', 'uid_DT_W']\n",
    "adv2 = ['D10_DT_M_min_max', 'D10_DT_W_min_max', 'D11_DT_M_std_score',\n",
    "      'D13_DT_M_std_score', 'D14_DT_M_std_score', 'D15_DT_M_min_max',\n",
    "      'D15_DT_W_min_max', 'D15_to_std_addr1', 'D3_DT_D_min_max',\n",
    "      'D3_DT_M_min_max', 'D3_DT_M_std_score', 'D3_DT_W_std_score',\n",
    "      'D4_DT_W_min_max', 'D5_DT_D_std_score', 'D5_DT_W_std_score',\n",
    "      'D5_intercept', 'D6_DT_M_std_score', 'D6_intercept', 'V81', 'V85',\n",
    "      'V91']"
   ]
  },
  {
   "cell_type": "code",
   "execution_count": 7,
   "metadata": {},
   "outputs": [],
   "source": [
    "adv100_list = adv100.query('cv >= 0.7')['feature'].tolist()\n",
    "adv200_list = adv200.query('cv >= 0.7')['feature'].tolist()\n",
    "adv300_list = adv300.query('cv >= 0.7')['feature'].tolist()"
   ]
  },
  {
   "cell_type": "code",
   "execution_count": 9,
   "metadata": {},
   "outputs": [],
   "source": [
    "advcombined = adv100_list + adv200_list + adv300_list + adv1 + adv2"
   ]
  },
  {
   "cell_type": "code",
   "execution_count": 12,
   "metadata": {},
   "outputs": [],
   "source": [
    "advcombined = sorted(advcombined)"
   ]
  },
  {
   "cell_type": "code",
   "execution_count": 13,
   "metadata": {},
   "outputs": [
    {
     "data": {
      "text/plain": [
       "['D10_DT_D_std_score',\n",
       " 'D10_DT_M_min_max',\n",
       " 'D10_DT_M_std_score',\n",
       " 'D10_DT_W_min_max',\n",
       " 'D10_intercept',\n",
       " 'D11_DT_M_std_score',\n",
       " 'D11_DT_W_std_score',\n",
       " 'D11_intercept',\n",
       " 'D13_DT_M_std_score',\n",
       " 'D14_DT_M_std_score',\n",
       " 'D15_DT_D_std_score',\n",
       " 'D15_DT_M_min_max',\n",
       " 'D15_DT_M_std_score',\n",
       " 'D15_DT_W_min_max',\n",
       " 'D15_intercept',\n",
       " 'D15_to_std_addr1',\n",
       " 'D1_intercept',\n",
       " 'D2_intercept',\n",
       " 'D3_DT_D_min_max',\n",
       " 'D3_DT_M_min_max',\n",
       " 'D3_DT_M_std_score',\n",
       " 'D3_DT_W_std_score',\n",
       " 'D3_intercept',\n",
       " 'D4_DT_M_std_score',\n",
       " 'D4_DT_W_min_max',\n",
       " 'D4_DT_W_std_score',\n",
       " 'D5_DT_D_std_score',\n",
       " 'D5_DT_W_std_score',\n",
       " 'D5_intercept',\n",
       " 'D6_DT_M_std_score',\n",
       " 'D6_intercept',\n",
       " 'D8_DT_D_std_score',\n",
       " 'D8_DT_M_std_score',\n",
       " 'D8_DT_W_std_score',\n",
       " 'Mean_TransAmt_Day',\n",
       " 'Sum_TransAmt_Day',\n",
       " 'TranAmt_div_Mean_D10_DOY_productCD',\n",
       " 'Trans_Count_Day',\n",
       " 'TransactionAmt_DT_D_min_max',\n",
       " 'TransactionAmt_DT_M_min_max',\n",
       " 'TransactionAmt_DT_M_std_score',\n",
       " 'TransactionAmt_to_mean_card4',\n",
       " 'TransactionAmt_to_std_card4',\n",
       " 'V81',\n",
       " 'V85',\n",
       " 'V91',\n",
       " 'addr2_div_Mean_D10_DOY',\n",
       " 'addr2_div_Mean_D1_DOY',\n",
       " 'bank_type_DT_D',\n",
       " 'bank_type_DT_M_month_day_dist_best',\n",
       " 'card3_DT_W_week_day_dist',\n",
       " 'card3_div_Mean_D10_DOY',\n",
       " 'card3_div_Mean_D10_DOY_productCD',\n",
       " 'card3_div_Mean_D1_DOY',\n",
       " 'card3_div_Mean_D1_DOY_productCD',\n",
       " 'card4_div_Mean_D1_DOY',\n",
       " 'card4_div_Mean_D1_DOY_productCD',\n",
       " 'card5_DT_M_month_day_dist_best',\n",
       " 'card5_DT_W_week_day_dist',\n",
       " 'card5_div_Mean_D1_DOY',\n",
       " 'card6_div_Mean_D10_DOY',\n",
       " 'card6_div_Mean_D1_DOY',\n",
       " 'card6_div_Mean_D1_DOY_productCD',\n",
       " 'id_01_count_dist',\n",
       " 'id_33_count_dist',\n",
       " 'minDT',\n",
       " 'product_type_DT_D',\n",
       " 'product_type_DT_M',\n",
       " 'product_type_DT_W',\n",
       " 'uid_DT_D',\n",
       " 'uid_DT_M',\n",
       " 'uid_DT_W']"
      ]
     },
     "execution_count": 13,
     "metadata": {},
     "output_type": "execute_result"
    }
   ],
   "source": [
    "advcombined"
   ]
  }
 ],
 "metadata": {
  "kernelspec": {
   "display_name": "Python 3",
   "language": "python",
   "name": "python3"
  },
  "language_info": {
   "codemirror_mode": {
    "name": "ipython",
    "version": 3
   },
   "file_extension": ".py",
   "mimetype": "text/x-python",
   "name": "python",
   "nbconvert_exporter": "python",
   "pygments_lexer": "ipython3",
   "version": "3.7.4"
  }
 },
 "nbformat": 4,
 "nbformat_minor": 4
}
