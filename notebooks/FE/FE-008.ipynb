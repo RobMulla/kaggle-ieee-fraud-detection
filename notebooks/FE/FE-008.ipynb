{
 "cells": [
  {
   "cell_type": "markdown",
   "metadata": {},
   "source": [
    "# Raddar's User level Features"
   ]
  },
  {
   "cell_type": "code",
   "execution_count": 1,
   "metadata": {},
   "outputs": [],
   "source": [
    "import pandas as pd"
   ]
  },
  {
   "cell_type": "code",
   "execution_count": 2,
   "metadata": {},
   "outputs": [],
   "source": [
    "user_feats = pd.read_csv('../../data/user_level_feats-001.csv')"
   ]
  },
  {
   "cell_type": "code",
   "execution_count": 6,
   "metadata": {},
   "outputs": [
    {
     "data": {
      "text/html": [
       "<div>\n",
       "<style scoped>\n",
       "    .dataframe tbody tr th:only-of-type {\n",
       "        vertical-align: middle;\n",
       "    }\n",
       "\n",
       "    .dataframe tbody tr th {\n",
       "        vertical-align: top;\n",
       "    }\n",
       "\n",
       "    .dataframe thead th {\n",
       "        text-align: right;\n",
       "    }\n",
       "</style>\n",
       "<table border=\"1\" class=\"dataframe\">\n",
       "  <thead>\n",
       "    <tr style=\"text-align: right;\">\n",
       "      <th></th>\n",
       "      <th>TransactionID</th>\n",
       "      <th>anomaly</th>\n",
       "      <th>minDT</th>\n",
       "      <th>maxDT</th>\n",
       "      <th>ntrans</th>\n",
       "      <th>mtransamt</th>\n",
       "      <th>maxtransamt</th>\n",
       "      <th>mintransamt</th>\n",
       "      <th>mxC1</th>\n",
       "      <th>mxC2</th>\n",
       "      <th>...</th>\n",
       "      <th>mxC5</th>\n",
       "      <th>mxC6</th>\n",
       "      <th>mxC7</th>\n",
       "      <th>mxC8</th>\n",
       "      <th>mxC9</th>\n",
       "      <th>mxC10</th>\n",
       "      <th>mxC11</th>\n",
       "      <th>mxC12</th>\n",
       "      <th>mxC13</th>\n",
       "      <th>mxC14</th>\n",
       "    </tr>\n",
       "  </thead>\n",
       "  <tbody>\n",
       "    <tr>\n",
       "      <td>0</td>\n",
       "      <td>2987000</td>\n",
       "      <td>0</td>\n",
       "      <td>0.000000e+00</td>\n",
       "      <td>0.000000e+00</td>\n",
       "      <td>1</td>\n",
       "      <td>68.500000</td>\n",
       "      <td>68.5</td>\n",
       "      <td>68.5</td>\n",
       "      <td>1.0</td>\n",
       "      <td>1.0</td>\n",
       "      <td>...</td>\n",
       "      <td>0.0</td>\n",
       "      <td>1.0</td>\n",
       "      <td>0.0</td>\n",
       "      <td>0.0</td>\n",
       "      <td>1.0</td>\n",
       "      <td>0.0</td>\n",
       "      <td>2.0</td>\n",
       "      <td>0.0</td>\n",
       "      <td>1.0</td>\n",
       "      <td>1.0</td>\n",
       "    </tr>\n",
       "    <tr>\n",
       "      <td>1</td>\n",
       "      <td>2987001</td>\n",
       "      <td>0</td>\n",
       "      <td>6.359409e-08</td>\n",
       "      <td>6.359409e-08</td>\n",
       "      <td>1</td>\n",
       "      <td>29.000000</td>\n",
       "      <td>29.0</td>\n",
       "      <td>29.0</td>\n",
       "      <td>1.0</td>\n",
       "      <td>1.0</td>\n",
       "      <td>...</td>\n",
       "      <td>0.0</td>\n",
       "      <td>1.0</td>\n",
       "      <td>0.0</td>\n",
       "      <td>0.0</td>\n",
       "      <td>0.0</td>\n",
       "      <td>0.0</td>\n",
       "      <td>1.0</td>\n",
       "      <td>0.0</td>\n",
       "      <td>1.0</td>\n",
       "      <td>1.0</td>\n",
       "    </tr>\n",
       "    <tr>\n",
       "      <td>2</td>\n",
       "      <td>2987002</td>\n",
       "      <td>0</td>\n",
       "      <td>4.387992e-06</td>\n",
       "      <td>9.281670e-01</td>\n",
       "      <td>4</td>\n",
       "      <td>73.500000</td>\n",
       "      <td>92.0</td>\n",
       "      <td>59.0</td>\n",
       "      <td>1.0</td>\n",
       "      <td>2.0</td>\n",
       "      <td>...</td>\n",
       "      <td>0.0</td>\n",
       "      <td>2.0</td>\n",
       "      <td>0.0</td>\n",
       "      <td>0.0</td>\n",
       "      <td>1.0</td>\n",
       "      <td>0.0</td>\n",
       "      <td>1.0</td>\n",
       "      <td>0.0</td>\n",
       "      <td>5.0</td>\n",
       "      <td>1.0</td>\n",
       "    </tr>\n",
       "    <tr>\n",
       "      <td>3</td>\n",
       "      <td>2987003</td>\n",
       "      <td>0</td>\n",
       "      <td>6.295815e-06</td>\n",
       "      <td>3.340526e-01</td>\n",
       "      <td>84</td>\n",
       "      <td>66.392857</td>\n",
       "      <td>141.0</td>\n",
       "      <td>29.0</td>\n",
       "      <td>2.0</td>\n",
       "      <td>5.0</td>\n",
       "      <td>...</td>\n",
       "      <td>0.0</td>\n",
       "      <td>4.0</td>\n",
       "      <td>0.0</td>\n",
       "      <td>0.0</td>\n",
       "      <td>1.0</td>\n",
       "      <td>0.0</td>\n",
       "      <td>1.0</td>\n",
       "      <td>0.0</td>\n",
       "      <td>47.0</td>\n",
       "      <td>1.0</td>\n",
       "    </tr>\n",
       "    <tr>\n",
       "      <td>4</td>\n",
       "      <td>2987004</td>\n",
       "      <td>0</td>\n",
       "      <td>6.740974e-06</td>\n",
       "      <td>6.740974e-06</td>\n",
       "      <td>1</td>\n",
       "      <td>50.000000</td>\n",
       "      <td>50.0</td>\n",
       "      <td>50.0</td>\n",
       "      <td>1.0</td>\n",
       "      <td>1.0</td>\n",
       "      <td>...</td>\n",
       "      <td>0.0</td>\n",
       "      <td>1.0</td>\n",
       "      <td>0.0</td>\n",
       "      <td>1.0</td>\n",
       "      <td>0.0</td>\n",
       "      <td>1.0</td>\n",
       "      <td>1.0</td>\n",
       "      <td>0.0</td>\n",
       "      <td>1.0</td>\n",
       "      <td>1.0</td>\n",
       "    </tr>\n",
       "  </tbody>\n",
       "</table>\n",
       "<p>5 rows × 22 columns</p>\n",
       "</div>"
      ],
      "text/plain": [
       "   TransactionID  anomaly         minDT         maxDT  ntrans  mtransamt  \\\n",
       "0        2987000        0  0.000000e+00  0.000000e+00       1  68.500000   \n",
       "1        2987001        0  6.359409e-08  6.359409e-08       1  29.000000   \n",
       "2        2987002        0  4.387992e-06  9.281670e-01       4  73.500000   \n",
       "3        2987003        0  6.295815e-06  3.340526e-01      84  66.392857   \n",
       "4        2987004        0  6.740974e-06  6.740974e-06       1  50.000000   \n",
       "\n",
       "   maxtransamt  mintransamt  mxC1  mxC2  ...  mxC5  mxC6  mxC7  mxC8  mxC9  \\\n",
       "0         68.5         68.5   1.0   1.0  ...   0.0   1.0   0.0   0.0   1.0   \n",
       "1         29.0         29.0   1.0   1.0  ...   0.0   1.0   0.0   0.0   0.0   \n",
       "2         92.0         59.0   1.0   2.0  ...   0.0   2.0   0.0   0.0   1.0   \n",
       "3        141.0         29.0   2.0   5.0  ...   0.0   4.0   0.0   0.0   1.0   \n",
       "4         50.0         50.0   1.0   1.0  ...   0.0   1.0   0.0   1.0   0.0   \n",
       "\n",
       "   mxC10  mxC11  mxC12  mxC13  mxC14  \n",
       "0    0.0    2.0    0.0    1.0    1.0  \n",
       "1    0.0    1.0    0.0    1.0    1.0  \n",
       "2    0.0    1.0    0.0    5.0    1.0  \n",
       "3    0.0    1.0    0.0   47.0    1.0  \n",
       "4    1.0    1.0    0.0    1.0    1.0  \n",
       "\n",
       "[5 rows x 22 columns]"
      ]
     },
     "execution_count": 6,
     "metadata": {},
     "output_type": "execute_result"
    }
   ],
   "source": [
    "user_feats.head()"
   ]
  },
  {
   "cell_type": "code",
   "execution_count": 8,
   "metadata": {},
   "outputs": [],
   "source": [
    "tr007 = pd.read_parquet('../../data/train_FE007.parquet')\n",
    "te007 = pd.read_parquet('../../data/test_FE007.parquet')"
   ]
  },
  {
   "cell_type": "code",
   "execution_count": 11,
   "metadata": {},
   "outputs": [],
   "source": [
    "tr008 = tr007.merge(user_feats, on='TransactionID', how='left')"
   ]
  },
  {
   "cell_type": "code",
   "execution_count": 12,
   "metadata": {},
   "outputs": [],
   "source": [
    "te008 = te007.merge(user_feats, on='TransactionID', how='left')"
   ]
  },
  {
   "cell_type": "code",
   "execution_count": 13,
   "metadata": {},
   "outputs": [
    {
     "data": {
      "text/plain": [
       "(590540, 1193)"
      ]
     },
     "execution_count": 13,
     "metadata": {},
     "output_type": "execute_result"
    }
   ],
   "source": [
    "tr007.shape"
   ]
  },
  {
   "cell_type": "code",
   "execution_count": 14,
   "metadata": {},
   "outputs": [
    {
     "data": {
      "text/plain": [
       "(506691, 1192)"
      ]
     },
     "execution_count": 14,
     "metadata": {},
     "output_type": "execute_result"
    }
   ],
   "source": [
    "te007.shape"
   ]
  },
  {
   "cell_type": "code",
   "execution_count": 15,
   "metadata": {},
   "outputs": [
    {
     "data": {
      "text/plain": [
       "(590540, 1214)"
      ]
     },
     "execution_count": 15,
     "metadata": {},
     "output_type": "execute_result"
    }
   ],
   "source": [
    "tr008.shape"
   ]
  },
  {
   "cell_type": "code",
   "execution_count": 16,
   "metadata": {},
   "outputs": [
    {
     "data": {
      "text/plain": [
       "(506691, 1213)"
      ]
     },
     "execution_count": 16,
     "metadata": {},
     "output_type": "execute_result"
    }
   ],
   "source": [
    "te008.shape"
   ]
  },
  {
   "cell_type": "code",
   "execution_count": 17,
   "metadata": {},
   "outputs": [],
   "source": [
    "tr008.to_parquet('../../data/train_FE008.parquet')\n",
    "te008.to_parquet('../../data/test_FE008.parquet')"
   ]
  }
 ],
 "metadata": {
  "kernelspec": {
   "display_name": "Python 3",
   "language": "python",
   "name": "python3"
  },
  "language_info": {
   "codemirror_mode": {
    "name": "ipython",
    "version": 3
   },
   "file_extension": ".py",
   "mimetype": "text/x-python",
   "name": "python",
   "nbconvert_exporter": "python",
   "pygments_lexer": "ipython3",
   "version": "3.7.4"
  }
 },
 "nbformat": 4,
 "nbformat_minor": 4
}
