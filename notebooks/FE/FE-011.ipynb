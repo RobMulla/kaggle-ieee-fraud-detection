{
 "cells": [
  {
   "cell_type": "markdown",
   "metadata": {},
   "source": [
    "# Userid Features"
   ]
  },
  {
   "cell_type": "code",
   "execution_count": 1,
   "metadata": {},
   "outputs": [],
   "source": [
    "import pandas as pd\n",
    "import numpy as np\n",
    "import matplotlib.pylab as plt\n",
    "import gc\n",
    "import scipy\n",
    "%matplotlib inline"
   ]
  },
  {
   "cell_type": "code",
   "execution_count": 2,
   "metadata": {},
   "outputs": [],
   "source": [
    "userids = pd.read_csv('../../data/userids/userids_final-002.csv')"
   ]
  },
  {
   "cell_type": "code",
   "execution_count": 3,
   "metadata": {},
   "outputs": [],
   "source": [
    "tr010 = pd.read_parquet('../../data/train_FE010.parquet')\n",
    "te010 = pd.read_parquet('../../data/test_FE010.parquet')"
   ]
  },
  {
   "cell_type": "code",
   "execution_count": 4,
   "metadata": {},
   "outputs": [],
   "source": [
    "tt = pd.concat([tr010, te010], axis=0, sort=False)"
   ]
  },
  {
   "cell_type": "code",
   "execution_count": 5,
   "metadata": {},
   "outputs": [
    {
     "data": {
      "text/html": [
       "<div>\n",
       "<style scoped>\n",
       "    .dataframe tbody tr th:only-of-type {\n",
       "        vertical-align: middle;\n",
       "    }\n",
       "\n",
       "    .dataframe tbody tr th {\n",
       "        vertical-align: top;\n",
       "    }\n",
       "\n",
       "    .dataframe thead th {\n",
       "        text-align: right;\n",
       "    }\n",
       "</style>\n",
       "<table border=\"1\" class=\"dataframe\">\n",
       "  <thead>\n",
       "    <tr style=\"text-align: right;\">\n",
       "      <th></th>\n",
       "      <th>TransactionID</th>\n",
       "      <th>userid</th>\n",
       "    </tr>\n",
       "  </thead>\n",
       "  <tbody>\n",
       "    <tr>\n",
       "      <td>0</td>\n",
       "      <td>2987000</td>\n",
       "      <td>1</td>\n",
       "    </tr>\n",
       "    <tr>\n",
       "      <td>1</td>\n",
       "      <td>2987001</td>\n",
       "      <td>2</td>\n",
       "    </tr>\n",
       "    <tr>\n",
       "      <td>2</td>\n",
       "      <td>2987002</td>\n",
       "      <td>3</td>\n",
       "    </tr>\n",
       "    <tr>\n",
       "      <td>3</td>\n",
       "      <td>2987003</td>\n",
       "      <td>4</td>\n",
       "    </tr>\n",
       "    <tr>\n",
       "      <td>4</td>\n",
       "      <td>2987004</td>\n",
       "      <td>5</td>\n",
       "    </tr>\n",
       "  </tbody>\n",
       "</table>\n",
       "</div>"
      ],
      "text/plain": [
       "   TransactionID  userid\n",
       "0        2987000       1\n",
       "1        2987001       2\n",
       "2        2987002       3\n",
       "3        2987003       4\n",
       "4        2987004       5"
      ]
     },
     "execution_count": 5,
     "metadata": {},
     "output_type": "execute_result"
    }
   ],
   "source": [
    "userids.head()"
   ]
  },
  {
   "cell_type": "code",
   "execution_count": 6,
   "metadata": {},
   "outputs": [
    {
     "data": {
      "text/plain": [
       "(1097231, 1411)"
      ]
     },
     "execution_count": 6,
     "metadata": {},
     "output_type": "execute_result"
    }
   ],
   "source": [
    "tt.shape"
   ]
  },
  {
   "cell_type": "code",
   "execution_count": 7,
   "metadata": {},
   "outputs": [],
   "source": [
    "tt = tt.merge(userids, on='TransactionID', how='left')"
   ]
  },
  {
   "cell_type": "code",
   "execution_count": 8,
   "metadata": {},
   "outputs": [
    {
     "data": {
      "text/html": [
       "<div>\n",
       "<style scoped>\n",
       "    .dataframe tbody tr th:only-of-type {\n",
       "        vertical-align: middle;\n",
       "    }\n",
       "\n",
       "    .dataframe tbody tr th {\n",
       "        vertical-align: top;\n",
       "    }\n",
       "\n",
       "    .dataframe thead th {\n",
       "        text-align: right;\n",
       "    }\n",
       "</style>\n",
       "<table border=\"1\" class=\"dataframe\">\n",
       "  <thead>\n",
       "    <tr style=\"text-align: right;\">\n",
       "      <th></th>\n",
       "      <th>TransactionID</th>\n",
       "      <th>isFraud</th>\n",
       "      <th>TransactionDT</th>\n",
       "      <th>TransactionAmt</th>\n",
       "      <th>ProductCD</th>\n",
       "      <th>card1</th>\n",
       "      <th>card2</th>\n",
       "      <th>card3</th>\n",
       "      <th>card4</th>\n",
       "      <th>card5</th>\n",
       "      <th>...</th>\n",
       "      <th>sum_Cxx_binary_higher_than_q50</th>\n",
       "      <th>sum_Cxx_binary_higher_than_q60</th>\n",
       "      <th>sum_Cxx_binary_higher_than_q70</th>\n",
       "      <th>sum_Cxx_binary_higher_than_q80</th>\n",
       "      <th>sum_Cxx_binary_higher_than_q90</th>\n",
       "      <th>sum_Cxx_binary_higher_than_q95</th>\n",
       "      <th>sum_Cxx_binary_higher_than_q99</th>\n",
       "      <th>C_sum_after_clip75</th>\n",
       "      <th>C_sum_after_clip90</th>\n",
       "      <th>userid</th>\n",
       "    </tr>\n",
       "  </thead>\n",
       "  <tbody>\n",
       "    <tr>\n",
       "      <td>0</td>\n",
       "      <td>2987000</td>\n",
       "      <td>0.0</td>\n",
       "      <td>86400</td>\n",
       "      <td>68.5</td>\n",
       "      <td>4</td>\n",
       "      <td>13926.0</td>\n",
       "      <td>NaN</td>\n",
       "      <td>150.0</td>\n",
       "      <td>1</td>\n",
       "      <td>142.0</td>\n",
       "      <td>...</td>\n",
       "      <td>1</td>\n",
       "      <td>1</td>\n",
       "      <td>0</td>\n",
       "      <td>0</td>\n",
       "      <td>0</td>\n",
       "      <td>0</td>\n",
       "      <td>0</td>\n",
       "      <td>8.0</td>\n",
       "      <td>8.0</td>\n",
       "      <td>1</td>\n",
       "    </tr>\n",
       "    <tr>\n",
       "      <td>1</td>\n",
       "      <td>2987001</td>\n",
       "      <td>0.0</td>\n",
       "      <td>86401</td>\n",
       "      <td>29.0</td>\n",
       "      <td>4</td>\n",
       "      <td>2755.0</td>\n",
       "      <td>404.0</td>\n",
       "      <td>150.0</td>\n",
       "      <td>2</td>\n",
       "      <td>102.0</td>\n",
       "      <td>...</td>\n",
       "      <td>0</td>\n",
       "      <td>0</td>\n",
       "      <td>0</td>\n",
       "      <td>0</td>\n",
       "      <td>0</td>\n",
       "      <td>0</td>\n",
       "      <td>0</td>\n",
       "      <td>6.0</td>\n",
       "      <td>6.0</td>\n",
       "      <td>2</td>\n",
       "    </tr>\n",
       "    <tr>\n",
       "      <td>2</td>\n",
       "      <td>2987002</td>\n",
       "      <td>0.0</td>\n",
       "      <td>86469</td>\n",
       "      <td>59.0</td>\n",
       "      <td>4</td>\n",
       "      <td>4663.0</td>\n",
       "      <td>490.0</td>\n",
       "      <td>150.0</td>\n",
       "      <td>4</td>\n",
       "      <td>166.0</td>\n",
       "      <td>...</td>\n",
       "      <td>0</td>\n",
       "      <td>0</td>\n",
       "      <td>0</td>\n",
       "      <td>0</td>\n",
       "      <td>0</td>\n",
       "      <td>0</td>\n",
       "      <td>0</td>\n",
       "      <td>7.0</td>\n",
       "      <td>7.0</td>\n",
       "      <td>3</td>\n",
       "    </tr>\n",
       "    <tr>\n",
       "      <td>3</td>\n",
       "      <td>2987003</td>\n",
       "      <td>0.0</td>\n",
       "      <td>86499</td>\n",
       "      <td>50.0</td>\n",
       "      <td>4</td>\n",
       "      <td>18132.0</td>\n",
       "      <td>567.0</td>\n",
       "      <td>150.0</td>\n",
       "      <td>2</td>\n",
       "      <td>117.0</td>\n",
       "      <td>...</td>\n",
       "      <td>4</td>\n",
       "      <td>3</td>\n",
       "      <td>3</td>\n",
       "      <td>3</td>\n",
       "      <td>0</td>\n",
       "      <td>0</td>\n",
       "      <td>0</td>\n",
       "      <td>22.0</td>\n",
       "      <td>39.0</td>\n",
       "      <td>4</td>\n",
       "    </tr>\n",
       "    <tr>\n",
       "      <td>4</td>\n",
       "      <td>2987004</td>\n",
       "      <td>0.0</td>\n",
       "      <td>86506</td>\n",
       "      <td>50.0</td>\n",
       "      <td>1</td>\n",
       "      <td>4497.0</td>\n",
       "      <td>514.0</td>\n",
       "      <td>150.0</td>\n",
       "      <td>2</td>\n",
       "      <td>102.0</td>\n",
       "      <td>...</td>\n",
       "      <td>2</td>\n",
       "      <td>2</td>\n",
       "      <td>2</td>\n",
       "      <td>0</td>\n",
       "      <td>0</td>\n",
       "      <td>0</td>\n",
       "      <td>0</td>\n",
       "      <td>7.0</td>\n",
       "      <td>8.0</td>\n",
       "      <td>5</td>\n",
       "    </tr>\n",
       "  </tbody>\n",
       "</table>\n",
       "<p>5 rows × 1412 columns</p>\n",
       "</div>"
      ],
      "text/plain": [
       "   TransactionID  isFraud  TransactionDT  TransactionAmt  ProductCD    card1  \\\n",
       "0        2987000      0.0          86400            68.5          4  13926.0   \n",
       "1        2987001      0.0          86401            29.0          4   2755.0   \n",
       "2        2987002      0.0          86469            59.0          4   4663.0   \n",
       "3        2987003      0.0          86499            50.0          4  18132.0   \n",
       "4        2987004      0.0          86506            50.0          1   4497.0   \n",
       "\n",
       "   card2  card3  card4  card5  ...  sum_Cxx_binary_higher_than_q50  \\\n",
       "0    NaN  150.0      1  142.0  ...                               1   \n",
       "1  404.0  150.0      2  102.0  ...                               0   \n",
       "2  490.0  150.0      4  166.0  ...                               0   \n",
       "3  567.0  150.0      2  117.0  ...                               4   \n",
       "4  514.0  150.0      2  102.0  ...                               2   \n",
       "\n",
       "   sum_Cxx_binary_higher_than_q60  sum_Cxx_binary_higher_than_q70  \\\n",
       "0                               1                               0   \n",
       "1                               0                               0   \n",
       "2                               0                               0   \n",
       "3                               3                               3   \n",
       "4                               2                               2   \n",
       "\n",
       "   sum_Cxx_binary_higher_than_q80  sum_Cxx_binary_higher_than_q90  \\\n",
       "0                               0                               0   \n",
       "1                               0                               0   \n",
       "2                               0                               0   \n",
       "3                               3                               0   \n",
       "4                               0                               0   \n",
       "\n",
       "   sum_Cxx_binary_higher_than_q95  sum_Cxx_binary_higher_than_q99  \\\n",
       "0                               0                               0   \n",
       "1                               0                               0   \n",
       "2                               0                               0   \n",
       "3                               0                               0   \n",
       "4                               0                               0   \n",
       "\n",
       "   C_sum_after_clip75  C_sum_after_clip90  userid  \n",
       "0                 8.0                 8.0       1  \n",
       "1                 6.0                 6.0       2  \n",
       "2                 7.0                 7.0       3  \n",
       "3                22.0                39.0       4  \n",
       "4                 7.0                 8.0       5  \n",
       "\n",
       "[5 rows x 1412 columns]"
      ]
     },
     "execution_count": 8,
     "metadata": {},
     "output_type": "execute_result"
    }
   ],
   "source": [
    "tt.head()"
   ]
  },
  {
   "cell_type": "code",
   "execution_count": 9,
   "metadata": {},
   "outputs": [],
   "source": [
    "groupuserid = tt.groupby('userid')"
   ]
  },
  {
   "cell_type": "code",
   "execution_count": 10,
   "metadata": {},
   "outputs": [],
   "source": [
    "# [x for x in tt.columns if 'C' in x]"
   ]
  },
  {
   "cell_type": "code",
   "execution_count": 11,
   "metadata": {},
   "outputs": [],
   "source": [
    "c_feats = ['C1',\n",
    " 'C2',\n",
    " 'C3',\n",
    " 'C4',\n",
    " 'C5',\n",
    " 'C6',\n",
    " 'C7',\n",
    " 'C8',\n",
    " 'C9',\n",
    " 'C10',\n",
    " 'C11',\n",
    " 'C12',\n",
    " 'C13',\n",
    " 'C14']\n",
    "\n",
    "for c in c_feats:\n",
    "    tt[f'userid_min_{c}'] = groupuserid[c].transform(min)\n",
    "    tt[f'userid_max_{c}'] = groupuserid[c].transform(max)\n",
    "    tt[f'userid_max_minus_min_{c}'] = tt[f'userid_max_{c}'] - tt[f'userid_min_{c}']\n",
    "    tt[f'userid_unique_{c}'] = groupuserid[c].transform('nunique')\n",
    "    tt[f'userid_mean_{c}'] = groupuserid[c].transform('mean')\n",
    "    #tt[f'userid_sum_{c}'] = groupuserid[c].transform(pd.Series.mode)\n",
    "    #tt[f'userid_sum_{c}'] = groupuserid[c].transform(unique)"
   ]
  },
  {
   "cell_type": "code",
   "execution_count": 12,
   "metadata": {},
   "outputs": [
    {
     "data": {
      "text/plain": [
       "(590540, 1411)"
      ]
     },
     "execution_count": 12,
     "metadata": {},
     "output_type": "execute_result"
    }
   ],
   "source": [
    "tr010.shape"
   ]
  },
  {
   "cell_type": "code",
   "execution_count": 13,
   "metadata": {},
   "outputs": [
    {
     "data": {
      "text/plain": [
       "(506691, 1410)"
      ]
     },
     "execution_count": 13,
     "metadata": {},
     "output_type": "execute_result"
    }
   ],
   "source": [
    "te010.shape"
   ]
  },
  {
   "cell_type": "code",
   "execution_count": 14,
   "metadata": {},
   "outputs": [],
   "source": [
    "tt.loc[tt['isFraud'].isna()].to_parquet('../../data/test_FE011.parquet')\n",
    "tt.loc[~tt['isFraud'].isna()].to_parquet('../../data/train_FE011.parquet')"
   ]
  },
  {
   "cell_type": "code",
   "execution_count": 15,
   "metadata": {},
   "outputs": [
    {
     "data": {
      "text/plain": [
       "['TransactionAmt_userid_median',\n",
       " 'TransactionAmt_userid_std',\n",
       " 'userid_min_C1',\n",
       " 'userid_max_C1',\n",
       " 'userid_max_minus_min_C1',\n",
       " 'userid_unique_C1',\n",
       " 'userid_mean_C1',\n",
       " 'userid_min_C2',\n",
       " 'userid_max_C2',\n",
       " 'userid_max_minus_min_C2',\n",
       " 'userid_unique_C2',\n",
       " 'userid_mean_C2',\n",
       " 'userid_min_C3',\n",
       " 'userid_max_C3',\n",
       " 'userid_max_minus_min_C3',\n",
       " 'userid_unique_C3',\n",
       " 'userid_mean_C3',\n",
       " 'userid_min_C4',\n",
       " 'userid_max_C4',\n",
       " 'userid_max_minus_min_C4',\n",
       " 'userid_unique_C4',\n",
       " 'userid_mean_C4',\n",
       " 'userid_min_C5',\n",
       " 'userid_max_C5',\n",
       " 'userid_max_minus_min_C5',\n",
       " 'userid_unique_C5',\n",
       " 'userid_mean_C5',\n",
       " 'userid_min_C6',\n",
       " 'userid_max_C6',\n",
       " 'userid_max_minus_min_C6',\n",
       " 'userid_unique_C6',\n",
       " 'userid_mean_C6',\n",
       " 'userid_min_C7',\n",
       " 'userid_max_C7',\n",
       " 'userid_max_minus_min_C7',\n",
       " 'userid_unique_C7',\n",
       " 'userid_mean_C7',\n",
       " 'userid_min_C8',\n",
       " 'userid_max_C8',\n",
       " 'userid_max_minus_min_C8',\n",
       " 'userid_unique_C8',\n",
       " 'userid_mean_C8',\n",
       " 'userid_min_C9',\n",
       " 'userid_max_C9',\n",
       " 'userid_max_minus_min_C9',\n",
       " 'userid_unique_C9',\n",
       " 'userid_mean_C9',\n",
       " 'userid_min_C10',\n",
       " 'userid_max_C10',\n",
       " 'userid_max_minus_min_C10',\n",
       " 'userid_unique_C10',\n",
       " 'userid_mean_C10',\n",
       " 'userid_min_C11',\n",
       " 'userid_max_C11',\n",
       " 'userid_max_minus_min_C11',\n",
       " 'userid_unique_C11',\n",
       " 'userid_mean_C11',\n",
       " 'userid_min_C12',\n",
       " 'userid_max_C12',\n",
       " 'userid_max_minus_min_C12',\n",
       " 'userid_unique_C12',\n",
       " 'userid_mean_C12',\n",
       " 'userid_min_C13',\n",
       " 'userid_max_C13',\n",
       " 'userid_max_minus_min_C13',\n",
       " 'userid_unique_C13',\n",
       " 'userid_mean_C13',\n",
       " 'userid_min_C14',\n",
       " 'userid_max_C14',\n",
       " 'userid_max_minus_min_C14',\n",
       " 'userid_unique_C14',\n",
       " 'userid_mean_C14']"
      ]
     },
     "execution_count": 15,
     "metadata": {},
     "output_type": "execute_result"
    }
   ],
   "source": [
    "# New Features\n",
    "[x for x in tt.columns if 'userid_' in x]"
   ]
  },
  {
   "cell_type": "code",
   "execution_count": null,
   "metadata": {},
   "outputs": [],
   "source": []
  }
 ],
 "metadata": {
  "kernelspec": {
   "display_name": "Python 3",
   "language": "python",
   "name": "python3"
  },
  "language_info": {
   "codemirror_mode": {
    "name": "ipython",
    "version": 3
   },
   "file_extension": ".py",
   "mimetype": "text/x-python",
   "name": "python",
   "nbconvert_exporter": "python",
   "pygments_lexer": "ipython3",
   "version": "3.7.4"
  }
 },
 "nbformat": 4,
 "nbformat_minor": 4
}
