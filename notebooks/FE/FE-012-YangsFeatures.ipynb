{
 "cells": [
  {
   "cell_type": "code",
   "execution_count": 2,
   "metadata": {},
   "outputs": [],
   "source": [
    "import lightgbm as lgb\n",
    "import pandas as pd\n",
    "import numpy as np\n",
    "import gc\n",
    "\n",
    "from sklearn.model_selection import KFold, TimeSeriesSplit, StratifiedKFold, GroupKFold\n",
    "from sklearn.metrics import roc_auc_score\n",
    "import matplotlib.pyplot as plt\n",
    "import seaborn as sns\n",
    "from sklearn.preprocessing import LabelEncoder\n",
    "import datetime\n",
    "\n",
    "import warnings\n",
    "warnings.filterwarnings(\"ignore\")"
   ]
  },
  {
   "cell_type": "code",
   "execution_count": 3,
   "metadata": {},
   "outputs": [],
   "source": [
    "address = '../../input/'"
   ]
  },
  {
   "cell_type": "code",
   "execution_count": 4,
   "metadata": {},
   "outputs": [
    {
     "name": "stdout",
     "output_type": "stream",
     "text": [
      "work on TransactionDT\n",
      "fill out D2 information\n",
      "work on categorical features\n"
     ]
    }
   ],
   "source": [
    "train_transaction = pd.read_csv(address + 'train_transaction.csv')\n",
    "train_identity = pd.read_csv(address + 'train_identity.csv')\n",
    "test_transaction = pd.read_csv(address + 'test_transaction.csv')\n",
    "test_identity = pd.read_csv(address + 'test_identity.csv')\n",
    "\n",
    "def display_importances(feature_importance_df_):\n",
    "    cols = feature_importance_df_[[\"feature\", \"importance\"]].groupby(\"feature\").mean().sort_values(by=\"importance\", ascending=False)[:40].index\n",
    "    best_features = feature_importance_df_.loc[feature_importance_df_.feature.isin(cols)]\n",
    "    plt.figure(figsize=(8, 10))\n",
    "    sns.barplot(x=\"importance\", y=\"feature\", data=best_features.sort_values(by=\"importance\", ascending=False))\n",
    "    plt.title('LightGBM Features (avg over folds)')\n",
    "    plt.tight_layout\n",
    "    #plt.savefig('lgbm_importances01.png')\n",
    "\n",
    "train = train_transaction.merge(train_identity, how='left', on='TransactionID')\n",
    "test = test_transaction.merge(test_identity, how='left', on='TransactionID')\n",
    "\n",
    "test_id = test[['TransactionID']].copy()\n",
    "\n",
    "del train_transaction, train_identity, test_transaction, test_identity\n",
    "gc.collect()\n",
    "\n",
    "train.sort_values(by='TransactionDT', ascending=True, inplace=True)\n",
    "test.sort_values(by='TransactionDT', ascending=True, inplace=True)\n",
    "\n",
    "train_shape = train.shape[0]\n",
    "data = pd.concat([train, test], axis=0)\n",
    "target = train['isFraud']\n",
    "del train, test\n",
    "gc.collect()\n",
    "\n",
    "print('work on TransactionDT')\n",
    "\n",
    "START_DATE = '2017-12-01'\n",
    "startdate = datetime.datetime.strptime(START_DATE, '%Y-%m-%d')\n",
    "data['TransactionDT_date'] = data['TransactionDT'].apply(lambda x: (startdate + datetime.timedelta(seconds = x)))\n",
    "#based on the information get from this time value, D9 is the hour\n",
    "data['hour'] = data['TransactionDT_date'].dt.hour\n",
    "data['hour_sin'] = np.sin(data['D9']*2*np.pi/24)\n",
    "\n",
    "data['week'] = data['TransactionDT_date'].dt.week\n",
    "data['week_sin']=np.sin(data['week']%52*2*np.pi/52)\n",
    "data['week_cos']=np.cos(data['week']%52*2*np.pi/52)\n",
    "\n",
    "data['month'] = data['TransactionDT_date'].dt.month\n",
    "\n",
    "data['DaysFromStart'] = np.ceil(data['TransactionDT']/(60*60*24))\n",
    "data['life_of_customer'] = data['DaysFromStart'] - data['D1']\n",
    "\n",
    "\n",
    "\n",
    "del data['TransactionDT_date'], data['D9']\n",
    "gc.collect()\n",
    "\n",
    "del data['V305']\n",
    "gc.collect()\n",
    "\n",
    "\n",
    "data['addr1_broad_area'] = data['addr1'].apply(str).apply(lambda x:x[0]).replace({'n':'6'}).apply(int)\n",
    "\n",
    "data['uid'] = data['card1'].astype(str)+'_' + data['card2'].astype(str)\n",
    "data['uid2'] = data['uid'].astype(str)+'_' + data['card3'].astype(str) + '_' + data['card5'].astype(str)\n",
    "data['uid3'] = data['uid2'].astype(str) + '_' + data['addr1'].astype(str)+'_' + data['addr2'].astype(str)\n",
    "data['uid4'] = data['uid3'].astype(str)+'_' + data['card4'].astype(str) + '_' + data['card6'].astype(str)\n",
    "data['uid5'] = data['uid4'].astype(str)+'_' + data['M4'].astype(str)\n",
    "data['uid6'] = data['uid5'].astype(str)+'_' + data['P_emaildomain'].astype(str)\n",
    "\n",
    "\n",
    "for col in ['card1', 'card2', 'card3', 'card5', 'uid', 'uid2', 'uid3', 'uid4', 'uid5', 'uid6', 'hour', 'week']:\n",
    "    tmp = data.groupby(col).agg({'TransactionAmt': ['mean', 'std']})\n",
    "    tmp.columns = pd.Index([col+'_'+e[0]+'_'+e[1] for e in tmp.columns])   \n",
    "    tmp = tmp.reset_index()\n",
    "    data = data.merge(tmp, how='left', on=col)\n",
    "    del tmp\n",
    "    gc.collect()\n",
    "    \n",
    "le = LabelEncoder()\n",
    "for col in ['M5', 'M6']:\n",
    "    data[col] = le.fit_transform(data[col].apply(str))  #因为存在missing的原因\n",
    "    \n",
    "data['new_identity'] = data.uid4.astype(str) + '_' + data.P_emaildomain.astype(str) + '_' + data.life_of_customer.astype(str)    \n",
    "\n",
    "print('fill out D2 information')\n",
    "data['D2_constant'] = data['DaysFromStart'] - data['D2']\n",
    "\n",
    "i_cols = ['D2']\n",
    "#D2的missing从46.98%变成35.53%\n",
    "##https://www.kaggle.com/kyakovlev/ieee-card1-card6\n",
    "for col in i_cols:\n",
    "    col1 = col+'_constant'\n",
    "    temp_df = data.groupby(['new_identity',col1])[col1].agg(['count']).reset_index()\n",
    "    temp_df = temp_df.sort_values(by=['new_identity','count'], ascending=False).reset_index(drop=True)\n",
    "    del temp_df['count']\n",
    "    temp_df = temp_df.drop_duplicates(keep='first').reset_index(drop=True)\n",
    "    temp_df.index = temp_df['new_identity'].values\n",
    "    temp_df = temp_df[col1].to_dict()\n",
    "    data[col1] = np.where(data[col1].isna(), data['new_identity'].map(temp_df), data[col1])\n",
    "    data[col] = data['DaysFromStart'] - data[col1]\n",
    "    data[col] = np.where(data[col]<0, np.nan, data[col])  #时差还是不要为负的\n",
    "    del temp_df, data[col1]\n",
    "    gc.collect()\n",
    "\n",
    "data['D1_diff'] = data.groupby(['new_identity'])['D1'].diff()\n",
    "\n",
    "data['D10_diff'] = data.groupby(['new_identity','ProductCD'])['D10'].diff()\n",
    "data['D15_diff'] = data.groupby(['new_identity','ProductCD'])['D15'].diff()\n",
    "\n",
    "tmp = data.groupby(['new_identity', 'addr1', 'addr2']).agg({'M5': ['mean'],\n",
    "                                                          'M6': ['mean'],\n",
    "                                                          'V315': ['mean'],\n",
    "                                                          'D1_diff':['mean'],\n",
    "                                                          'D3':['mean'],\n",
    "                                                          'D10_diff':['mean'],\n",
    "                                                          'D15_diff':['mean']})\n",
    "tmp.columns = pd.Index(['new_identity_'+col[0]+'_'+col[1] for col in tmp.columns])\n",
    "tmp = tmp.reset_index()\n",
    "tmp1 = tmp.groupby(['addr1', 'addr2']).agg({'new_identity_M5_mean': ['mean', 'std'],\n",
    "                                          'new_identity_M6_mean': ['mean', 'std'],\n",
    "                                          'new_identity_V315_mean': ['mean', 'std'],\n",
    "                                          'new_identity_D1_diff_mean': ['mean', 'std'],\n",
    "                                          'new_identity_D10_diff_mean': ['mean', 'std'],\n",
    "                                          'new_identity_D15_diff_mean': ['mean', 'std'],})\n",
    "tmp1.columns = pd.Index(['addr1_addr2_'+col[0]+'_'+col[1] for col in tmp1.columns])\n",
    "tmp1 = tmp1.reset_index()\n",
    "data = data.merge(tmp, on=['new_identity', 'addr1', 'addr2'], how='left')\n",
    "data = data.merge(tmp1, on=['addr1', 'addr2'], how='left')\n",
    "\n",
    "tmp = data.groupby(['new_identity', 'ProductCD']).agg({'TransactionAmt':['mean']})\n",
    "tmp.columns = pd.Index(['new_identity_ProductCD_'+col[0]+'_'+col[1] for col in tmp.columns])\n",
    "tmp = tmp.reset_index()\n",
    "data = data.merge(tmp, on=['new_identity','ProductCD'], how='left')\n",
    "\n",
    "del data['new_identity'], tmp, tmp1, data['DaysFromStart']\n",
    "gc.collect()\n",
    "\n",
    "#data['R_emaildomain'] = data.R_emaildomain.replace('gmail', 'gmail.com')\n",
    "#data['P_emaildomain'] = data.P_emaildomain.replace('gmail', 'gmail.com')\n",
    "    \n",
    "tmp = data.groupby('uid6').agg({'C1':['mean', 'std'],\n",
    "                                 'V54': ['mean', 'std'],\n",
    "                                 'V281': ['mean', 'std'],\n",
    "                                 'C11': ['mean', 'std'],\n",
    "                                 'D4': ['mean', 'std'],\n",
    "                                 'V67': ['mean', 'std'],\n",
    "                                 'V320': ['mean', 'std'],\n",
    "                                 'M5': ['mean', 'std'],\n",
    "                                 'M6': ['mean', 'std'],})\n",
    "                                 \n",
    "tmp.columns = pd.Index(['uid6_'+e[0]+'_'+e[1] for e in tmp.columns.tolist()])\n",
    "tmp = tmp.reset_index()\n",
    "data = data.merge(tmp, on='uid6', how='left')\n",
    "del tmp\n",
    "gc.collect()\n",
    "\n",
    "\n",
    "tmp = data.groupby('uid3').agg({'V67':['mean', 'std'],\n",
    "                                'V83':['mean', 'std'],\n",
    "                                'D4':['mean', 'std'],})                               \n",
    "tmp.columns = pd.Index(['uid3_'+e[0]+'_'+e[1] for e in tmp.columns.tolist()])\n",
    "tmp = tmp.reset_index()\n",
    "data = data.merge(tmp, on='uid3', how='left')\n",
    "del tmp\n",
    "gc.collect()\n",
    "\n",
    "data['addr'] = data['addr1'].astype(str) + '_' + data['addr2'].astype(str)\n",
    "         \n",
    "for col in ['uid', 'uid2', 'uid3', 'uid4', 'uid5', 'uid6', 'card4', 'card6', 'ProductCD', 'M4', 'addr']:\n",
    "    fq_encode = data[col].value_counts().to_dict()   \n",
    "    data[col+'_fq_enc'] = data[col].map(fq_encode)\n",
    "    del data[col]\n",
    "    gc.collect()\n",
    "   \n",
    "device_match_dict = {\n",
    "    'sm':'samsung',\n",
    "    'huawei':'huawei',\n",
    "    'moto':'moto',\n",
    "    'rv':'rv:',\n",
    "    'trident':'trident',\n",
    "    'lg':'lg-',\n",
    "    'htc':'htc',\n",
    "    'blade':'blade',\n",
    "    'windows':'windows',\n",
    "    'lenovo':'lenovo',\n",
    "    'linux':'linux',\n",
    "    'f3':'f3',\n",
    "    'f5':'f5',\n",
    "    'unknown_info': 'unknown_info',\n",
    "}\n",
    "\n",
    "data['DeviceInfo'] = data['DeviceInfo'].apply(lambda x: str(x).lower())\n",
    "for dev_type_s, dev_type_o in device_match_dict.items():\n",
    "    data['DeviceInfo'] = data['DeviceInfo'].apply(lambda x: dev_type_s if dev_type_o in x else x)\n",
    "data['DeviceInfo'] = data['DeviceInfo'].apply(lambda x: 'other_d_type' if x not in device_match_dict else x)\n",
    "\n",
    "print('work on categorical features')\n",
    "# the columns with numerical value\n",
    "le = LabelEncoder()\n",
    "for col in data.columns:\n",
    "    if col not in ['TransactionID', 'isFraud'] and data[col].dtype == 'O':\n",
    "        data[col] = le.fit_transform(data[col].apply(str))  #因为存在missing的原因\n",
    "    \n",
    "tmp = data.groupby('R_emaildomain').agg({'V118':['mean', 'std'],\n",
    "                                          'V119':['mean', 'std'],})\n",
    "tmp.columns = pd.Index(['R_emaildomain_'+e[0]+'_'+e[1] for e in tmp.columns.tolist()])\n",
    "tmp = tmp.reset_index()\n",
    "data = data.merge(tmp, on='R_emaildomain', how='left')\n",
    "del tmp\n",
    "gc.collect()\n",
    "\n",
    "tmp = data.groupby('card1').agg({'V20':['mean', 'std'],\n",
    "                                 'V151': ['mean', 'std'],\n",
    "                                 'V67': ['mean', 'std'],})\n",
    "                                 \n",
    "tmp.columns = pd.Index(['card1_'+e[0]+'_'+e[1] for e in tmp.columns.tolist()])\n",
    "tmp = tmp.reset_index()\n",
    "data = data.merge(tmp, on='card1', how='left')\n",
    "del tmp\n",
    "gc.collect()\n",
    "\n",
    "tmp = data.groupby('hour').agg({'V116':['mean', 'std'],})\n",
    "                                 \n",
    "tmp.columns = pd.Index(['hour_'+e[0]+'_'+e[1] for e in tmp.columns.tolist()])\n",
    "tmp = tmp.reset_index()\n",
    "data = data.merge(tmp, on='hour', how='left')\n",
    "del tmp\n",
    "gc.collect()\n",
    "\n",
    "del data['id_31'], data['id_19'], data['id_20'], data['V316'], data['id_12'],data['V306'], data['V220'], data['id_04'], data['id_05']\n",
    "gc.collect()\n",
    "    \n",
    "feats = [col for col in data.columns if col not in ['TransactionID', 'isFraud']]\n",
    "\n",
    "#feats = [col for col in feats if col not in ['month_sin', 'month_cos']]\n",
    "\n",
    "train = data[:train_shape]\n",
    "test = data[train_shape:]\n",
    "\n",
    "train = train[feats]\n",
    "test = test[feats]"
   ]
  },
  {
   "cell_type": "code",
   "execution_count": 5,
   "metadata": {},
   "outputs": [
    {
     "name": "stdout",
     "output_type": "stream",
     "text": [
      "done\n"
     ]
    }
   ],
   "source": [
    "print('done')"
   ]
  },
  {
   "cell_type": "code",
   "execution_count": 7,
   "metadata": {},
   "outputs": [],
   "source": [
    "pd.set_option('max_columns', 500)"
   ]
  },
  {
   "cell_type": "code",
   "execution_count": null,
   "metadata": {},
   "outputs": [],
   "source": [
    "tr011 = pd.read_parquet('../../data/train_FE011.parquet')"
   ]
  },
  {
   "cell_type": "code",
   "execution_count": 21,
   "metadata": {},
   "outputs": [],
   "source": [
    "te011 = pd.read_parquet('../../data/test_FE011.parquet')"
   ]
  },
  {
   "cell_type": "code",
   "execution_count": 16,
   "metadata": {},
   "outputs": [
    {
     "data": {
      "text/plain": [
       "77"
      ]
     },
     "execution_count": 16,
     "metadata": {},
     "output_type": "execute_result"
    }
   ],
   "source": [
    "len([c for c in train.columns if c not in tr011.columns])"
   ]
  },
  {
   "cell_type": "code",
   "execution_count": 19,
   "metadata": {},
   "outputs": [
    {
     "data": {
      "text/plain": [
       "(590540, 1482)"
      ]
     },
     "execution_count": 19,
     "metadata": {},
     "output_type": "execute_result"
    }
   ],
   "source": [
    "tr011.shape"
   ]
  },
  {
   "cell_type": "code",
   "execution_count": 22,
   "metadata": {},
   "outputs": [],
   "source": [
    "tr012 = pd.concat([tr011, train[[c for c in train.columns if c not in tr011.columns]]], axis=1)\n",
    "te012 = pd.concat([te011, test[[c for c in test.columns if c not in te011.columns]]], axis=1)"
   ]
  },
  {
   "cell_type": "code",
   "execution_count": 23,
   "metadata": {},
   "outputs": [
    {
     "data": {
      "text/plain": [
       "(590540, 1559)"
      ]
     },
     "execution_count": 23,
     "metadata": {},
     "output_type": "execute_result"
    }
   ],
   "source": [
    "tr012.shape"
   ]
  },
  {
   "cell_type": "code",
   "execution_count": 24,
   "metadata": {},
   "outputs": [
    {
     "data": {
      "text/plain": [
       "(506691, 1559)"
      ]
     },
     "execution_count": 24,
     "metadata": {},
     "output_type": "execute_result"
    }
   ],
   "source": [
    "te012.shape"
   ]
  },
  {
   "cell_type": "code",
   "execution_count": 27,
   "metadata": {},
   "outputs": [],
   "source": [
    "tr012.to_parquet('../../data/train_FE012.parquet')\n",
    "te012.to_parquet('../../data/test_FE012.parquet')"
   ]
  },
  {
   "cell_type": "code",
   "execution_count": 28,
   "metadata": {},
   "outputs": [
    {
     "data": {
      "text/plain": [
       "['hour',\n",
       " 'hour_sin',\n",
       " 'week',\n",
       " 'week_sin',\n",
       " 'week_cos',\n",
       " 'month',\n",
       " 'life_of_customer',\n",
       " 'addr1_broad_area',\n",
       " 'uid6_TransactionAmt_mean',\n",
       " 'uid6_TransactionAmt_std',\n",
       " 'hour_TransactionAmt_mean',\n",
       " 'hour_TransactionAmt_std',\n",
       " 'week_TransactionAmt_mean',\n",
       " 'week_TransactionAmt_std',\n",
       " 'D1_diff',\n",
       " 'D10_diff',\n",
       " 'D15_diff',\n",
       " 'new_identity_M5_mean',\n",
       " 'new_identity_M6_mean',\n",
       " 'new_identity_V315_mean',\n",
       " 'new_identity_D1_diff_mean',\n",
       " 'new_identity_D3_mean',\n",
       " 'new_identity_D10_diff_mean',\n",
       " 'new_identity_D15_diff_mean',\n",
       " 'addr1_addr2_new_identity_M5_mean_mean',\n",
       " 'addr1_addr2_new_identity_M5_mean_std',\n",
       " 'addr1_addr2_new_identity_M6_mean_mean',\n",
       " 'addr1_addr2_new_identity_M6_mean_std',\n",
       " 'addr1_addr2_new_identity_V315_mean_mean',\n",
       " 'addr1_addr2_new_identity_V315_mean_std',\n",
       " 'addr1_addr2_new_identity_D1_diff_mean_mean',\n",
       " 'addr1_addr2_new_identity_D1_diff_mean_std',\n",
       " 'addr1_addr2_new_identity_D10_diff_mean_mean',\n",
       " 'addr1_addr2_new_identity_D10_diff_mean_std',\n",
       " 'addr1_addr2_new_identity_D15_diff_mean_mean',\n",
       " 'addr1_addr2_new_identity_D15_diff_mean_std',\n",
       " 'new_identity_ProductCD_TransactionAmt_mean',\n",
       " 'uid6_C1_mean',\n",
       " 'uid6_C1_std',\n",
       " 'uid6_V54_mean',\n",
       " 'uid6_V54_std',\n",
       " 'uid6_V281_mean',\n",
       " 'uid6_V281_std',\n",
       " 'uid6_C11_mean',\n",
       " 'uid6_C11_std',\n",
       " 'uid6_D4_mean',\n",
       " 'uid6_D4_std',\n",
       " 'uid6_V67_mean',\n",
       " 'uid6_V67_std',\n",
       " 'uid6_V320_mean',\n",
       " 'uid6_V320_std',\n",
       " 'uid6_M5_mean',\n",
       " 'uid6_M5_std',\n",
       " 'uid6_M6_mean',\n",
       " 'uid6_M6_std',\n",
       " 'uid3_V67_mean',\n",
       " 'uid3_V67_std',\n",
       " 'uid3_V83_mean',\n",
       " 'uid3_V83_std',\n",
       " 'uid6_fq_enc',\n",
       " 'card4_fq_enc',\n",
       " 'card6_fq_enc',\n",
       " 'ProductCD_fq_enc',\n",
       " 'M4_fq_enc',\n",
       " 'addr_fq_enc',\n",
       " 'R_emaildomain_V118_mean',\n",
       " 'R_emaildomain_V118_std',\n",
       " 'R_emaildomain_V119_mean',\n",
       " 'R_emaildomain_V119_std',\n",
       " 'card1_V20_mean',\n",
       " 'card1_V20_std',\n",
       " 'card1_V151_mean',\n",
       " 'card1_V151_std',\n",
       " 'card1_V67_mean',\n",
       " 'card1_V67_std',\n",
       " 'hour_V116_mean',\n",
       " 'hour_V116_std']"
      ]
     },
     "execution_count": 28,
     "metadata": {},
     "output_type": "execute_result"
    }
   ],
   "source": [
    "[c for c in train.columns if c not in tr011.columns]"
   ]
  }
 ],
 "metadata": {
  "kernelspec": {
   "display_name": "Python 3",
   "language": "python",
   "name": "python3"
  },
  "language_info": {
   "codemirror_mode": {
    "name": "ipython",
    "version": 3
   },
   "file_extension": ".py",
   "mimetype": "text/x-python",
   "name": "python",
   "nbconvert_exporter": "python",
   "pygments_lexer": "ipython3",
   "version": "3.7.4"
  }
 },
 "nbformat": 4,
 "nbformat_minor": 4
}
